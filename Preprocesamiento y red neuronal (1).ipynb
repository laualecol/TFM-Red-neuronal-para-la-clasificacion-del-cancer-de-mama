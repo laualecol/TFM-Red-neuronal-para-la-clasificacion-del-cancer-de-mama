{
 "cells": [
  {
   "cell_type": "markdown",
   "metadata": {},
   "source": [
    "#### IMPORTACIÓN DE LIBRERÍAS NECESARIAS"
   ]
  },
  {
   "cell_type": "code",
   "execution_count": 1,
   "metadata": {},
   "outputs": [],
   "source": [
    "# Importamos las librerías necesarias\n",
    "import tensorflow\n",
    "import numpy as np\n",
    "import matplotlib.pyplot as plt\n",
    "import pydicom as pdicom\n",
    "import os\n",
    "import glob\n",
    "import re \n",
    "\n",
    "%matplotlib inline\n",
    "\n",
    "import cv2\n",
    "import sys\n",
    "import pandas as pd\n",
    "from sklearn.model_selection import train_test_split\n",
    "from sklearn.metrics import classification_report\n",
    "from tensorflow import keras\n",
    "from tensorflow.keras.utils import to_categorical\n",
    "from tensorflow.keras.models import model_from_json\n",
    "from tensorflow.keras.models import Sequential\n",
    "from tensorflow.keras.models import Model\n",
    "from tensorflow.keras.layers import Input\n",
    "from tensorflow.keras.layers import Dense\n",
    "from tensorflow.keras.layers import Dropout \n",
    "from tensorflow.keras.layers import Flatten\n",
    "from tensorflow.keras.layers import Conv2D\n",
    "from tensorflow.keras.layers import MaxPooling2D\n",
    "from tensorflow.keras.layers import BatchNormalization\n",
    "from tensorflow.keras.layers import LeakyReLU"
   ]
  },
  {
   "cell_type": "markdown",
   "metadata": {},
   "source": [
    "#### IMPORTAR LOS DATOS CRUDOS"
   ]
  },
  {
   "cell_type": "markdown",
   "metadata": {},
   "source": [
    "Creamos una variable llamada \"directorio_principal\" que es la ruta en la que se encuentran las imágenes del proyecto. Dentro de dicha carpeta, hay dos carpetas más, una para cada tipo de imagen (Benigno vs Maligno). Para cargarlas, creamos otros dos directorios por el tipo de imagen."
   ]
  },
  {
   "cell_type": "code",
   "execution_count": 2,
   "metadata": {},
   "outputs": [],
   "source": [
    "directorio_principal = '/Users/laura/Desktop/MASTER/TFM/Imagenes TFM/CMMD'\n",
    "directorio_benignos = '/Users/laura/Desktop/MASTER/TFM/Imagenes TFM/CMMD/Benignos'\n",
    "directorio_malignos = '/Users/laura/Desktop/MASTER/TFM/Imagenes TFM/CMMD/Malignos'"
   ]
  },
  {
   "cell_type": "markdown",
   "metadata": {},
   "source": [
    "A continuación, se realiza la carga de las imágenes. Creamos para ello, un bucle que itere cada uno de los elementos de nuestro directorio de trabajo. "
   ]
  },
  {
   "cell_type": "code",
   "execution_count": 3,
   "metadata": {},
   "outputs": [
    {
     "name": "stdout",
     "output_type": "stream",
     "text": [
      "Nuestro número de imágenes totales que corresponden a tumores benignos es de 466 imágenes\n"
     ]
    }
   ],
   "source": [
    "pacientes_benignos = os.listdir(directorio_benignos)\n",
    "pacientes_benignos.sort()\n",
    "# Recolección de todas las imágenes DICOM\n",
    "imagenes_benignos = []    # Creamos una lista vacía\n",
    "def load_scan(path):\n",
    "    for dirName, subdirList, fileList in os.walk(path):\n",
    "        for filename in fileList:\n",
    "            if \".dcm\" in filename.lower():\n",
    "                imagenes_benignos.append(os.path.join(dirName,filename))\n",
    "    return imagenes_benignos\n",
    "# Añadimos las imágenes a la lista\n",
    "primer_paciente_benignos = load_scan(directorio_benignos)\n",
    "print('Nuestro número de imágenes totales que corresponden a tumores benignos es de',len(imagenes_benignos), 'imágenes')"
   ]
  },
  {
   "cell_type": "markdown",
   "metadata": {},
   "source": [
    "Cargamos todos las imágenes en una lista utilizando la función *pdicom.dcmread()*."
   ]
  },
  {
   "cell_type": "code",
   "execution_count": 4,
   "metadata": {},
   "outputs": [],
   "source": [
    "ds_benignos = []\n",
    "for x in range(0,len(imagenes_benignos)):\n",
    "    img = pdicom.dcmread(imagenes_benignos[x])\n",
    "    ds_benignos.append(img)"
   ]
  },
  {
   "cell_type": "markdown",
   "metadata": {},
   "source": [
    "Realizamos exactamente los mismos pasos con las imágenes de los tumores malignos."
   ]
  },
  {
   "cell_type": "code",
   "execution_count": 5,
   "metadata": {},
   "outputs": [
    {
     "name": "stdout",
     "output_type": "stream",
     "text": [
      "Nuestro número de imágenes que corresponden a tumores malignos es de 1283 imágenes\n"
     ]
    }
   ],
   "source": [
    "pacientes_malignos = os.listdir(directorio_malignos)\n",
    "pacientes_malignos.sort()\n",
    "# Recolección de todas las imágenes DICOM\n",
    "imagenes_malignos = []    # Creamos una lista vacía\n",
    "def load_scan(path):\n",
    "    for dirName, subdirList, fileList in os.walk(path):\n",
    "        for filename in fileList:\n",
    "            if \".dcm\" in filename.lower():\n",
    "                imagenes_malignos.append(os.path.join(dirName,filename))\n",
    "    return imagenes_malignos\n",
    "# Añadimos las imágenes a la lista\n",
    "primer_paciente_malignos = load_scan(directorio_malignos)\n",
    "print('Nuestro número de imágenes que corresponden a tumores malignos es de',len(imagenes_malignos), 'imágenes')"
   ]
  },
  {
   "cell_type": "code",
   "execution_count": 6,
   "metadata": {},
   "outputs": [],
   "source": [
    "ds_malignos = []\n",
    "for x in range(0,len(imagenes_malignos)):\n",
    "    img = pdicom.dcmread(imagenes_malignos[x])\n",
    "    ds_malignos.append(img)"
   ]
  },
  {
   "cell_type": "markdown",
   "metadata": {},
   "source": [
    "#### ANÁLISIS EXPLORATORIO DE LOS DATOS"
   ]
  },
  {
   "cell_type": "code",
   "execution_count": 8,
   "metadata": {},
   "outputs": [
    {
     "name": "stdout",
     "output_type": "stream",
     "text": [
      "Nuestro proyecto está formado en total por 1749 imágenes\n"
     ]
    }
   ],
   "source": [
    "print('Nuestro proyecto está formado en total por', len(ds_benignos) + len(ds_malignos), 'imágenes')"
   ]
  },
  {
   "cell_type": "markdown",
   "metadata": {},
   "source": [
    "A continuación, vamos a mostrar al azar una imagen al azar de los tumores benignos con su correspondiente clase:"
   ]
  },
  {
   "cell_type": "code",
   "execution_count": 9,
   "metadata": {},
   "outputs": [
    {
     "name": "stdout",
     "output_type": "stream",
     "text": [
      "La imagen mostrada es la nº 150 y corresponde a la etiqueta Benignos\n"
     ]
    },
    {
     "data": {
      "text/plain": [
       "<matplotlib.image.AxesImage at 0x26ae9cd3070>"
      ]
     },
     "execution_count": 9,
     "metadata": {},
     "output_type": "execute_result"
    },
    {
     "data": {
      "image/png": "[encoded data removed]",
      "text/plain": [
       "<Figure size 432x288 with 1 Axes>"
      ]
     },
     "metadata": {
      "needs_background": "light"
     },
     "output_type": "display_data"
    }
   ],
   "source": [
    "from random import randrange\n",
    "numero = randrange(len(ds_benignos))\n",
    "print('La imagen mostrada es la nº', numero, 'y corresponde a la etiqueta Benignos')\n",
    "plt.imshow(ds_benignos[numero].pixel_array, cmap = plt.cm.gray)"
   ]
  },
  {
   "cell_type": "markdown",
   "metadata": {},
   "source": [
    "Ahora, hacemos lo mismo con las imágenes correspondientes a los tumores malignos:"
   ]
  },
  {
   "cell_type": "code",
   "execution_count": 20,
   "metadata": {},
   "outputs": [
    {
     "name": "stdout",
     "output_type": "stream",
     "text": [
      "La imagen mostrada es la nº 202 y corresponde a la etiqueta Malignos\n"
     ]
    },
    {
     "data": {
      "text/plain": [
       "<matplotlib.image.AxesImage at 0x2296df1a190>"
      ]
     },
     "execution_count": 20,
     "metadata": {},
     "output_type": "execute_result"
    },
    {
     "data": {
      "image/png": "[encoded data removed]",
      "text/plain": [
       "<Figure size 432x288 with 1 Axes>"
      ]
     },
     "metadata": {
      "needs_background": "light"
     },
     "output_type": "display_data"
    }
   ],
   "source": [
    "from random import randrange\n",
    "numero = randrange(len(ds_malignos))\n",
    "print('La imagen mostrada es la nº', numero, 'y corresponde a la etiqueta Malignos')\n",
    "plt.imshow(ds_malignos[numero].pixel_array, cmap = plt.cm.gray)"
   ]
  },
  {
   "cell_type": "markdown",
   "metadata": {},
   "source": [
    "Mostramos la información detallada de la imagen:"
   ]
  },
  {
   "cell_type": "code",
   "execution_count": 22,
   "metadata": {},
   "outputs": [
    {
     "data": {
      "text/plain": [
       "Dataset.file_meta -------------------------------\n",
       "(0002, 0000) File Meta Information Group Length  UL: 208\n",
       "(0002, 0001) File Meta Information Version       OB: b'\\x00\\x01'\n",
       "(0002, 0002) Media Storage SOP Class UID         UI: Digital Mammography X-Ray Image Storage - For Presentation\n",
       "(0002, 0003) Media Storage SOP Instance UID      UI: 1.3.6.1.4.1.14519.5.2.1.1239.1759.121949186846077507713942613984\n",
       "(0002, 0010) Transfer Syntax UID                 UI: Explicit VR Little Endian\n",
       "(0002, 0012) Implementation Class UID            UI: 1.3.6.1.4.1.22213.1.143\n",
       "(0002, 0013) Implementation Version Name         SH: '0.5'\n",
       "(0002, 0016) Source Application Entity Title     AE: 'POSDA'\n",
       "-------------------------------------------------\n",
       "(0008, 0005) Specific Character Set              CS: 'ISO_IR 100'\n",
       "(0008, 0008) Image Type                          CS: ['DERIVED', 'PRIMARY']\n",
       "(0008, 0012) Instance Creation Date              DA: '20170818'\n",
       "(0008, 0013) Instance Creation Time              TM: '115357'\n",
       "(0008, 0014) Instance Creator UID                UI: 1.3.6.1.4.1.14519.5.2.1.1239.1759.256693145395574474618647257749\n",
       "(0008, 0016) SOP Class UID                       UI: Digital Mammography X-Ray Image Storage - For Presentation\n",
       "(0008, 0018) SOP Instance UID                    UI: 1.3.6.1.4.1.14519.5.2.1.1239.1759.121949186846077507713942613984\n",
       "(0008, 0020) Study Date                          DA: '20100718'\n",
       "(0008, 0021) Series Date                         DA: '20100718'\n",
       "(0008, 0022) Acquisition Date                    DA: '20100718'\n",
       "(0008, 0023) Content Date                        DA: '20100718'\n",
       "(0008, 0030) Study Time                          TM: '000000'\n",
       "(0008, 0031) Series Time                         TM: '000000'\n",
       "(0008, 0032) Acquisition Time                    TM: '000000'\n",
       "(0008, 0033) Content Time                        TM: '000000'\n",
       "(0008, 0050) Accession Number                    SH: ''\n",
       "(0008, 0060) Modality                            CS: 'MG'\n",
       "(0008, 0068) Presentation Intent Type            CS: 'FOR PRESENTATION'\n",
       "(0008, 0070) Manufacturer                        LO: ''\n",
       "(0008, 0090) Referring Physician's Name          PN: ''\n",
       "(0008, 2218)  Anatomic Region Sequence  1 item(s) ---- \n",
       "   (0008, 0100) Code Value                          SH: '76752008'\n",
       "   (0008, 0102) Coding Scheme Designator            SH: 'SCT'\n",
       "   (0008, 0104) Code Meaning                        LO: 'Breast'\n",
       "   ---------\n",
       "(0010, 0010) Patient's Name                      PN: 'D1-0342'\n",
       "(0010, 0020) Patient ID                          LO: 'D1-0342'\n",
       "(0010, 0030) Patient's Birth Date                DA: ''\n",
       "(0010, 0040) Patient's Sex                       CS: 'F'\n",
       "(0010, 1010) Patient's Age                       AS: '054Y'\n",
       "(0012, 0062) Patient Identity Removed            CS: 'YES'\n",
       "(0012, 0063) De-identification Method            LO: 'Per DICOM PS 3.15 AnnexE. Details in 0012,0064'\n",
       "(0012, 0064)  De-identification Method Code Sequence  8 item(s) ---- \n",
       "   (0008, 0100) Code Value                          SH: '113100'\n",
       "   (0008, 0102) Coding Scheme Designator            SH: 'DCM'\n",
       "   (0008, 0104) Code Meaning                        LO: 'Basic Application Confidentiality Profile'\n",
       "   ---------\n",
       "   (0008, 0100) Code Value                          SH: '113101'\n",
       "   (0008, 0102) Coding Scheme Designator            SH: 'DCM'\n",
       "   (0008, 0104) Code Meaning                        LO: 'Clean Pixel Data Option'\n",
       "   ---------\n",
       "   (0008, 0100) Code Value                          SH: '113104'\n",
       "   (0008, 0102) Coding Scheme Designator            SH: 'DCM'\n",
       "   (0008, 0104) Code Meaning                        LO: 'Clean Structured Content Option'\n",
       "   ---------\n",
       "   (0008, 0100) Code Value                          SH: '113105'\n",
       "   (0008, 0102) Coding Scheme Designator            SH: 'DCM'\n",
       "   (0008, 0104) Code Meaning                        LO: 'Clean Descriptors Option'\n",
       "   ---------\n",
       "   (0008, 0100) Code Value                          SH: '113107'\n",
       "   (0008, 0102) Coding Scheme Designator            SH: 'DCM'\n",
       "   (0008, 0104) Code Meaning                        LO: 'Retain Longitudinal Temporal Information Modified Dates Option'\n",
       "   ---------\n",
       "   (0008, 0100) Code Value                          SH: '113108'\n",
       "   (0008, 0102) Coding Scheme Designator            SH: 'DCM'\n",
       "   (0008, 0104) Code Meaning                        LO: 'Retain Patient Characteristics Option'\n",
       "   ---------\n",
       "   (0008, 0100) Code Value                          SH: '113109'\n",
       "   (0008, 0102) Coding Scheme Designator            SH: 'DCM'\n",
       "   (0008, 0104) Code Meaning                        LO: 'Retain Device Identity Option'\n",
       "   ---------\n",
       "   (0008, 0100) Code Value                          SH: '113111'\n",
       "   (0008, 0102) Coding Scheme Designator            SH: 'DCM'\n",
       "   (0008, 0104) Code Meaning                        LO: 'Retain Safe Private Option'\n",
       "   ---------\n",
       "(0013, 0010) Private Creator                     LO: 'CTP'\n",
       "(0013, 1010) Private tag data                    LO: 'CMMD'\n",
       "(0013, 1013) Private tag data                    LO: '12391759'\n",
       "(0018, 0015) Body Part Examined                  CS: 'BREAST'\n",
       "(0018, 1164) Imager Pixel Spacing                DS: [0.094090909, 0.094090909]\n",
       "(0018, 1508) Positioner Type                     CS: 'MAMMOGRAPHIC'\n",
       "(0018, 7004) Detector Type                       CS: 'SCINTILLATOR'\n",
       "(0020, 000d) Study Instance UID                  UI: 1.3.6.1.4.1.14519.5.2.1.1239.1759.255254705018823959101703607579\n",
       "(0020, 000e) Series Instance UID                 UI: 1.3.6.1.4.1.14519.5.2.1.1239.1759.272608743892344093642284587375\n",
       "(0020, 0010) Study ID                            SH: ''\n",
       "(0020, 0011) Series Number                       IS: '1'\n",
       "(0020, 0013) Instance Number                     IS: '2'\n",
       "(0020, 0020) Patient Orientation                 CS: ['A', 'FR']\n",
       "(0020, 0062) Image Laterality                    CS: 'L'\n",
       "(0028, 0002) Samples per Pixel                   US: 1\n",
       "(0028, 0004) Photometric Interpretation          CS: 'MONOCHROME2'\n",
       "(0028, 0010) Rows                                US: 2294\n",
       "(0028, 0011) Columns                             US: 1914\n",
       "(0028, 0100) Bits Allocated                      US: 8\n",
       "(0028, 0101) Bits Stored                         US: 8\n",
       "(0028, 0102) High Bit                            US: 7\n",
       "(0028, 0103) Pixel Representation                US: 0\n",
       "(0028, 0301) Burned In Annotation                CS: 'NO'\n",
       "(0028, 0303) Longitudinal Temporal Information M CS: 'MODIFIED'\n",
       "(0028, 1040) Pixel Intensity Relationship        CS: 'LOG'\n",
       "(0028, 1041) Pixel Intensity Relationship Sign   SS: -1\n",
       "(0028, 1050) Window Center                       DS: '128.0'\n",
       "(0028, 1051) Window Width                        DS: '256.0'\n",
       "(0028, 1052) Rescale Intercept                   DS: '0.0'\n",
       "(0028, 1053) Rescale Slope                       DS: '1.0'\n",
       "(0028, 1054) Rescale Type                        LO: 'US'\n",
       "(0028, 1055) Window Center & Width Explanation   LO: 'Full width of 8 bit data'\n",
       "(0028, 1056) VOI LUT Function                    CS: 'SIGMOID'\n",
       "(0028, 2110) Lossy Image Compression             CS: '00'\n",
       "(0040, 0318) Organ Exposed                       CS: 'BREAST'\n",
       "(0040, 0555)  Acquisition Context Sequence  0 item(s) ---- \n",
       "(0054, 0220)  View Code Sequence  1 item(s) ---- \n",
       "   (0008, 0100) Code Value                          SH: '399368009'\n",
       "   (0008, 0102) Coding Scheme Designator            SH: 'SCT'\n",
       "   (0008, 0104) Code Meaning                        LO: 'medio-lateral oblique'\n",
       "   (0054, 0222)  View Modifier Code Sequence  0 item(s) ---- \n",
       "   ---------\n",
       "(2050, 0020) Presentation LUT Shape              CS: 'IDENTITY'\n",
       "(7fe0, 0010) Pixel Data                          OB: Array of 4390716 elements"
      ]
     },
     "execution_count": 22,
     "metadata": {},
     "output_type": "execute_result"
    }
   ],
   "source": [
    "ds_malignos[numero]"
   ]
  },
  {
   "cell_type": "markdown",
   "metadata": {},
   "source": [
    "Para analizar mejor los datos podemos crear un *data frame* extrayendo las siguientes características de las imágenes:\n",
    "- *Clase*: Nos indica la clase de imagen.\n",
    "- *Tamaño*: Nos indica el tamaño de la imagen.\n",
    "- *Modo*: Nos indica el modo de imagen, 1-correspondiente a el modo en una escala de grises, 3- correspondiente a *RGB*."
   ]
  },
  {
   "cell_type": "code",
   "execution_count": 57,
   "metadata": {},
   "outputs": [],
   "source": [
    "# Para la variable tamaño escogemos del dataset la variable columnas \n",
    "# y la variable de filas:\n",
    "Size = []\n",
    "for x in range(0, len(ds_benignos)):\n",
    "    rows = ds_benignos[x].Rows\n",
    "    columns = ds_benignos[x].Columns\n",
    "    tamaño = (rows,columns)\n",
    "    Size.append(tamaño)\n",
    "    \n",
    "for x in range(0, len(ds_malignos)):\n",
    "    rows = ds_malignos[x].Rows\n",
    "    columns = ds_malignos[x].Columns\n",
    "    tamaño = (rows,columns)\n",
    "    Size.append(tamaño)\n",
    "\n",
    "# Para la variable clase creamos un vector desde 0:\n",
    "Clase = [\"Benigno\"] * 466 + [\"Maligno\"] * 1283\n",
    "\n",
    "# Extraemos el modo de imagen accediendo al *SamplesPerPixel*:\n",
    "Mode = []\n",
    "for x in range(0,len(ds_benignos)):\n",
    "    samples_pixel = ds_benignos[x].SamplesPerPixel\n",
    "    Mode.append(samples_pixel)\n",
    "\n",
    "for x in range(0,len(ds_malignos)):\n",
    "    samples_pixel = ds_malignos[x].SamplesPerPixel\n",
    "    Mode.append(samples_pixel)"
   ]
  },
  {
   "cell_type": "markdown",
   "metadata": {},
   "source": [
    "Creamos un **data frame** con la función del paquete *Pandas*:"
   ]
  },
  {
   "cell_type": "code",
   "execution_count": 58,
   "metadata": {},
   "outputs": [],
   "source": [
    "df = pd.DataFrame({\n",
    "    \"Clase\": Clase,\n",
    "    \"Tamaño\": Size,\n",
    "    \"Modo\": Mode})"
   ]
  },
  {
   "cell_type": "markdown",
   "metadata": {},
   "source": [
    "Mostramos nuestro **data frame**:"
   ]
  },
  {
   "cell_type": "code",
   "execution_count": 56,
   "metadata": {},
   "outputs": [
    {
     "name": "stdout",
     "output_type": "stream",
     "text": [
      "        Clase        Tamaño  Modo\n",
      "0     Benigno  (2294, 1914)     1\n",
      "1     Benigno  (2294, 1914)     1\n",
      "2     Benigno  (2294, 1914)     1\n",
      "3     Benigno  (2294, 1914)     1\n",
      "4     Benigno  (2294, 1914)     1\n",
      "...       ...           ...   ...\n",
      "1744  Maligno  (2294, 1914)     1\n",
      "1745  Maligno  (2294, 1914)     1\n",
      "1746  Maligno  (2294, 1914)     1\n",
      "1747  Maligno  (2294, 1914)     1\n",
      "1748  Maligno  (2294, 1914)     1\n",
      "\n",
      "[1749 rows x 3 columns]\n"
     ]
    }
   ],
   "source": [
    "print(df)"
   ]
  },
  {
   "cell_type": "markdown",
   "metadata": {},
   "source": [
    "#### PREPROCESAMIENTO DE LOS DATOS"
   ]
  },
  {
   "cell_type": "markdown",
   "metadata": {},
   "source": [
    "##### REDUCCIÓN Y BALANCEADO DEL CONJUNTO DE DATOS"
   ]
  },
  {
   "cell_type": "markdown",
   "metadata": {},
   "source": [
    "Para que el conjunto de datos esté balanceado, podemos optar por coger nuestro total de imágenes de benignos ya cargados en la variable *ds_benignos* y escoger al azar la misma cantidad de imágenes del conjunto de datos de malignos."
   ]
  },
  {
   "cell_type": "code",
   "execution_count": 7,
   "metadata": {},
   "outputs": [
    {
     "data": {
      "text/plain": [
       "466"
      ]
     },
     "execution_count": 7,
     "metadata": {},
     "output_type": "execute_result"
    }
   ],
   "source": [
    "import random\n",
    "from random import sample\n",
    "random.seed('123')\n",
    "ds_malignos_balanceado = sample(ds_malignos, 466)\n",
    "len(ds_malignos_balanceado)"
   ]
  },
  {
   "cell_type": "markdown",
   "metadata": {},
   "source": [
    "##### CARGAMOS LAS ETIQUETAS DE IMAGEN EN UNA LISTA"
   ]
  },
  {
   "cell_type": "code",
   "execution_count": 8,
   "metadata": {},
   "outputs": [
    {
     "data": {
      "text/plain": [
       "{'Benigno', 'Maligno'}"
      ]
     },
     "execution_count": 8,
     "metadata": {},
     "output_type": "execute_result"
    }
   ],
   "source": [
    "clases = [\"Benigno\"] * 466 + [\"Maligno\"] * 466\n",
    "set(clases)"
   ]
  },
  {
   "cell_type": "markdown",
   "metadata": {},
   "source": [
    "##### PREPROCESAMIENTO DE LAS IMÁGENES"
   ]
  },
  {
   "cell_type": "code",
   "execution_count": 9,
   "metadata": {},
   "outputs": [],
   "source": [
    "def preprocesamiento(img):\n",
    "    img_pixel_array = img.pixel_array\n",
    "    # Lo convertimos a color\n",
    "    img_rgb = cv2.cvtColor(img_pixel_array, cv2.COLOR_GRAY2RGB)\n",
    "    # Establecemos un tamaño de 256x256\n",
    "    resized_img = cv2.resize(img_rgb, (256, 256))\n",
    "    # Normalizamos las imágenes\n",
    "    img_norm = resized_img/255\n",
    "    \n",
    "    return img_norm"
   ]
  },
  {
   "cell_type": "code",
   "execution_count": 10,
   "metadata": {},
   "outputs": [],
   "source": [
    "X = []\n",
    "for x in range(0,len(ds_benignos)):\n",
    "    img_preprocesada = preprocesamiento(ds_benignos[x])\n",
    "    X.append(img_preprocesada)"
   ]
  },
  {
   "cell_type": "code",
   "execution_count": 11,
   "metadata": {},
   "outputs": [],
   "source": [
    "for x in range(0, len(ds_malignos_balanceado)):\n",
    "    img_preprocesada = preprocesamiento(ds_malignos_balanceado[x])\n",
    "    X.append(img_preprocesada)"
   ]
  },
  {
   "cell_type": "markdown",
   "metadata": {},
   "source": [
    "##### CODIFICACIÓN DE LAS CLASES"
   ]
  },
  {
   "cell_type": "markdown",
   "metadata": {},
   "source": [
    "Codificamos las clases, es decir, asignamos valores numéricos de 0 y 1 a cada valor de la variable clase."
   ]
  },
  {
   "cell_type": "code",
   "execution_count": 12,
   "metadata": {},
   "outputs": [
    {
     "data": {
      "text/plain": [
       "{'Benigno', 'Maligno'}"
      ]
     },
     "execution_count": 12,
     "metadata": {},
     "output_type": "execute_result"
    }
   ],
   "source": [
    "# Podemos observar el nombre de las clases:\n",
    "set(clases)"
   ]
  },
  {
   "cell_type": "code",
   "execution_count": 14,
   "metadata": {},
   "outputs": [],
   "source": [
    "# Creamos un diccionario:\n",
    "diccionario = {'Benigno':0, 'Maligno':1}"
   ]
  },
  {
   "cell_type": "code",
   "execution_count": 15,
   "metadata": {},
   "outputs": [],
   "source": [
    "# Asignamos a cada clase su valor numérico:\n",
    "Y = [diccionario.get(n,n) for n in clases]"
   ]
  },
  {
   "cell_type": "code",
   "execution_count": 16,
   "metadata": {},
   "outputs": [
    {
     "data": {
      "text/plain": [
       "{0, 1}"
      ]
     },
     "execution_count": 16,
     "metadata": {},
     "output_type": "execute_result"
    }
   ],
   "source": [
    "# Observamos las nuevas clases:\n",
    "set(Y)"
   ]
  },
  {
   "cell_type": "markdown",
   "metadata": {},
   "source": [
    "##### TRANSFORMAMOS LAS LISTAS EN VECTORES"
   ]
  },
  {
   "cell_type": "code",
   "execution_count": 17,
   "metadata": {},
   "outputs": [],
   "source": [
    "# Utilizamos la función np.array para hacer la transformación:\n",
    "X = np.array(X)\n",
    "Y = np.array(Y)"
   ]
  },
  {
   "cell_type": "code",
   "execution_count": 18,
   "metadata": {},
   "outputs": [
    {
     "data": {
      "text/plain": [
       "932"
      ]
     },
     "execution_count": 18,
     "metadata": {},
     "output_type": "execute_result"
    }
   ],
   "source": [
    "# Comprobamos la longitud de los vectores:\n",
    "len(X)"
   ]
  },
  {
   "cell_type": "markdown",
   "metadata": {},
   "source": [
    "##### CREAMOS LOS CONJUNTOS DE TRAIN, TEST Y VALIDATION"
   ]
  },
  {
   "cell_type": "code",
   "execution_count": 19,
   "metadata": {},
   "outputs": [],
   "source": [
    "X_train, X_test, Y_train, Y_test  = train_test_split(X,Y, test_size = 0.25)"
   ]
  },
  {
   "cell_type": "code",
   "execution_count": 20,
   "metadata": {},
   "outputs": [],
   "source": [
    "X_train, X_valid, Y_train, Y_valid = train_test_split(X_train, Y_train, test_size = 0.25)"
   ]
  },
  {
   "cell_type": "code",
   "execution_count": 21,
   "metadata": {},
   "outputs": [
    {
     "name": "stdout",
     "output_type": "stream",
     "text": [
      "Entrenamiento Imágenes: (524, 256, 256, 3) Etiquetas: (524,)\n",
      "Test Imágenes: (233, 256, 256, 3) Etiquetas: (233,)\n",
      "Validación Imágenes: (175, 256, 256, 3) Etiquetas: (175,)\n"
     ]
    }
   ],
   "source": [
    "print('Entrenamiento', 'Imágenes:',X_train.shape, 'Etiquetas:',Y_train.shape)\n",
    "print('Test', 'Imágenes:', X_test.shape, 'Etiquetas:',Y_test.shape)\n",
    "print('Validación', 'Imágenes:', X_valid.shape, 'Etiquetas:',Y_valid.shape)"
   ]
  },
  {
   "cell_type": "markdown",
   "metadata": {},
   "source": [
    "##### ONE-HOT ENCODING"
   ]
  },
  {
   "cell_type": "markdown",
   "metadata": {},
   "source": [
    "Se debe realizar un one-hot encoding de la variable clases. Esto significa convertir las clases en una clasificación binaria con 0 y 1. Esto se hace para facilitar el rendimiento y el funcionamiento de la red neuronal. Keras tiene una función llamada to_categorical() que realiza esta función."
   ]
  },
  {
   "cell_type": "code",
   "execution_count": 22,
   "metadata": {},
   "outputs": [
    {
     "name": "stdout",
     "output_type": "stream",
     "text": [
      "Etiqueta original: 1 , Etiqueta one-hot encoding: [0. 1.]\n"
     ]
    }
   ],
   "source": [
    "from tensorflow.keras.utils import to_categorical\n",
    "\n",
    "Y_train_oh = to_categorical(Y_train)\n",
    "Y_test_oh = to_categorical(Y_test)\n",
    "Y_validation_oh = to_categorical(Y_valid)\n",
    "\n",
    "print('Etiqueta original:', Y_train[211], ', Etiqueta one-hot encoding:', Y_train_oh[211])"
   ]
  },
  {
   "cell_type": "code",
   "execution_count": 25,
   "metadata": {},
   "outputs": [
    {
     "data": {
      "text/plain": [
       "(524,)"
      ]
     },
     "execution_count": 25,
     "metadata": {},
     "output_type": "execute_result"
    }
   ],
   "source": [
    "Y_train.shape"
   ]
  },
  {
   "cell_type": "code",
   "execution_count": 26,
   "metadata": {},
   "outputs": [
    {
     "data": {
      "text/plain": [
       "(256, 256, 3)"
      ]
     },
     "execution_count": 26,
     "metadata": {},
     "output_type": "execute_result"
    }
   ],
   "source": [
    "X_train[1].shape"
   ]
  },
  {
   "cell_type": "code",
   "execution_count": 82,
   "metadata": {},
   "outputs": [
    {
     "data": {
      "text/plain": [
       "(196,)"
      ]
     },
     "execution_count": 82,
     "metadata": {},
     "output_type": "execute_result"
    }
   ],
   "source": [
    "Y_valid.shape"
   ]
  },
  {
   "cell_type": "code",
   "execution_count": 25,
   "metadata": {},
   "outputs": [
    {
     "data": {
      "text/plain": [
       "(149, 256, 256, 3)"
      ]
     },
     "execution_count": 25,
     "metadata": {},
     "output_type": "execute_result"
    }
   ],
   "source": [
    "X_valid.shape"
   ]
  },
  {
   "cell_type": "markdown",
   "metadata": {},
   "source": [
    "#### RED NEURONAL DESDE CERO"
   ]
  },
  {
   "cell_type": "markdown",
   "metadata": {},
   "source": [
    "Crearemos una red con 4 capas de convolución. La función de activación en cada capa es *ReLu*. En cada capa se realizará un **MaxPoling de 2x2** para reducir la imagen manteniendo las características únicas que detectó cada kernel. A continuación se añade una capa **Flatten()** aplana las características en un vector unidemensional."
   ]
  },
  {
   "cell_type": "code",
   "execution_count": 23,
   "metadata": {},
   "outputs": [
    {
     "name": "stdout",
     "output_type": "stream",
     "text": [
      "Model: \"sequential\"\n",
      "_________________________________________________________________\n",
      "Layer (type)                 Output Shape              Param #   \n",
      "=================================================================\n",
      "conv2d (Conv2D)              (None, 254, 254, 32)      896       \n",
      "_________________________________________________________________\n",
      "max_pooling2d (MaxPooling2D) (None, 127, 127, 32)      0         \n",
      "_________________________________________________________________\n",
      "conv2d_1 (Conv2D)            (None, 125, 125, 64)      18496     \n",
      "_________________________________________________________________\n",
      "max_pooling2d_1 (MaxPooling2 (None, 62, 62, 64)        0         \n",
      "_________________________________________________________________\n",
      "conv2d_2 (Conv2D)            (None, 60, 60, 128)       73856     \n",
      "_________________________________________________________________\n",
      "max_pooling2d_2 (MaxPooling2 (None, 30, 30, 128)       0         \n",
      "_________________________________________________________________\n",
      "conv2d_3 (Conv2D)            (None, 28, 28, 512)       590336    \n",
      "_________________________________________________________________\n",
      "max_pooling2d_3 (MaxPooling2 (None, 14, 14, 512)       0         \n",
      "_________________________________________________________________\n",
      "flatten (Flatten)            (None, 100352)            0         \n",
      "_________________________________________________________________\n",
      "dense (Dense)                (None, 512)               51380736  \n",
      "_________________________________________________________________\n",
      "dropout (Dropout)            (None, 512)               0         \n",
      "_________________________________________________________________\n",
      "dense_1 (Dense)              (None, 2)                 1026      \n",
      "=================================================================\n",
      "Total params: 52,065,346\n",
      "Trainable params: 52,065,346\n",
      "Non-trainable params: 0\n",
      "_________________________________________________________________\n"
     ]
    }
   ],
   "source": [
    "modelo_1 = Sequential()\n",
    "\n",
    "modelo_1.add(Conv2D(32, (3, 3), input_shape=(256, 256, 3), activation = 'relu'))\n",
    "modelo_1.add(MaxPooling2D(pool_size=(2, 2)))\n",
    "\n",
    "modelo_1.add(Conv2D(64, (3, 3), activation = 'relu'))\n",
    "modelo_1.add(MaxPooling2D(pool_size=(2, 2)))\n",
    "\n",
    "modelo_1.add(Conv2D(128, (3, 3), activation = 'relu'))\n",
    "modelo_1.add(MaxPooling2D(pool_size=(2, 2)))\n",
    "\n",
    "modelo_1.add(Conv2D(512, (3, 3), activation = 'relu'))\n",
    "modelo_1.add(MaxPooling2D(pool_size=(2, 2)))\n",
    "\n",
    "modelo_1.add(Flatten()) \n",
    "\n",
    "modelo_1.add(Dense(512, activation = 'relu'))\n",
    "\n",
    "modelo_1.add(Dropout(0.2))\n",
    "\n",
    "modelo_1.add(Dense(2, activation = 'sigmoid'))\n",
    "\n",
    "modelo_1.summary()"
   ]
  },
  {
   "cell_type": "code",
   "execution_count": 24,
   "metadata": {},
   "outputs": [],
   "source": [
    "from tensorflow import keras\n",
    "modelo_1.compile(loss = 'binary_crossentropy', \n",
    "                optimizer = keras.optimizers.Adam(),\n",
    "                metrics = ['accuracy'])"
   ]
  },
  {
   "cell_type": "code",
   "execution_count": 25,
   "metadata": {},
   "outputs": [
    {
     "name": "stdout",
     "output_type": "stream",
     "text": [
      "Epoch 1/10\n",
      "8/8 [==============================] - 495s 55s/step - loss: 0.7150 - accuracy: 0.5898 - val_loss: 0.6766 - val_accuracy: 0.6094\n",
      "Epoch 2/10\n",
      "8/8 [==============================] - 38s 5s/step - loss: 0.6584 - accuracy: 0.6370 - val_loss: 0.6728 - val_accuracy: 0.6094\n",
      "Epoch 3/10\n",
      "8/8 [==============================] - 39s 5s/step - loss: 0.6429 - accuracy: 0.6500 - val_loss: 0.6967 - val_accuracy: 0.6094\n",
      "Epoch 4/10\n",
      "8/8 [==============================] - 39s 5s/step - loss: 0.6534 - accuracy: 0.6217 - val_loss: 0.6635 - val_accuracy: 0.6094\n",
      "Epoch 5/10\n",
      "8/8 [==============================] - 38s 5s/step - loss: 0.6486 - accuracy: 0.6478 - val_loss: 0.6939 - val_accuracy: 0.6172\n",
      "Epoch 6/10\n",
      "8/8 [==============================] - 38s 5s/step - loss: 0.6393 - accuracy: 0.6587 - val_loss: 0.6734 - val_accuracy: 0.6094\n",
      "Epoch 7/10\n",
      "8/8 [==============================] - 37s 4s/step - loss: 0.6375 - accuracy: 0.6478 - val_loss: 0.6588 - val_accuracy: 0.6016\n",
      "Epoch 8/10\n",
      "8/8 [==============================] - 39s 5s/step - loss: 0.6249 - accuracy: 0.6413 - val_loss: 0.6679 - val_accuracy: 0.6094\n",
      "Epoch 9/10\n",
      "8/8 [==============================] - 36s 4s/step - loss: 0.6187 - accuracy: 0.6391 - val_loss: 0.6524 - val_accuracy: 0.6016\n",
      "Epoch 10/10\n",
      "8/8 [==============================] - 43s 5s/step - loss: 0.6020 - accuracy: 0.6738 - val_loss: 0.7575 - val_accuracy: 0.5703\n"
     ]
    }
   ],
   "source": [
    "batch_size = 64\n",
    "resumen_1 = modelo_1.fit(X_train, Y_train_oh,\n",
    "                        batch_size = 64,\n",
    "                        epochs = 10,\n",
    "                        steps_per_epoch = len(X_train) // batch_size,\n",
    "                        verbose = 1,\n",
    "                        validation_data = (X_valid, Y_validation_oh),\n",
    "                        validation_steps = len(X_valid) // batch_size)"
   ]
  },
  {
   "cell_type": "code",
   "execution_count": 28,
   "metadata": {},
   "outputs": [],
   "source": [
    "from tensorflow.keras.models import model_from_json\n",
    "model1_json = modelo_1.to_json()\n",
    "with open(\"model.json\", \"w\") as json_file:\n",
    "    json_file.write(model1_json)\n",
    "# serialize weights to HDF5\n",
    "modelo_1.save_weights(\"model_1.h5py\")"
   ]
  },
  {
   "cell_type": "code",
   "execution_count": 29,
   "metadata": {},
   "outputs": [
    {
     "name": "stdout",
     "output_type": "stream",
     "text": [
      "8/8 [==============================] - 6s 646ms/step - loss: 0.7271 - accuracy: 0.5923\n"
     ]
    }
   ],
   "source": [
    "test_eval = modelo_1.evaluate(X_test,Y_test_oh, verbose = 1)"
   ]
  },
  {
   "cell_type": "code",
   "execution_count": 31,
   "metadata": {},
   "outputs": [
    {
     "name": "stderr",
     "output_type": "stream",
     "text": [
      "No artists with labels found to put in legend.  Note that artists whose label start with an underscore are ignored when legend() is called with no argument.\n"
     ]
    },
    {
     "data": {
      "text/plain": [
       "<Figure size 432x288 with 0 Axes>"
      ]
     },
     "execution_count": 31,
     "metadata": {},
     "output_type": "execute_result"
    },
    {
     "data": {
      "image/png": "[encoded data removed]",
      "text/plain": [
       "<Figure size 432x288 with 1 Axes>"
      ]
     },
     "metadata": {
      "needs_background": "light"
     },
     "output_type": "display_data"
    },
    {
     "data": {
      "image/png": "[encoded data removed]",
      "text/plain": [
       "<Figure size 432x288 with 1 Axes>"
      ]
     },
     "metadata": {
      "needs_background": "light"
     },
     "output_type": "display_data"
    },
    {
     "data": {
      "text/plain": [
       "<Figure size 432x288 with 0 Axes>"
      ]
     },
     "metadata": {},
     "output_type": "display_data"
    }
   ],
   "source": [
    "acc      = resumen_1.history['accuracy']\n",
    "val_acc  = resumen_1.history['val_accuracy']\n",
    "loss     = resumen_1.history['loss']\n",
    "val_loss = resumen_1.history['val_loss']\n",
    "\n",
    "epochs   = range(1,len(acc)+1,1)\n",
    "\n",
    "plt.plot ( epochs,     acc, 'r--', label='Training acc'  )\n",
    "plt.plot ( epochs, val_acc,  'b', label='Validation acc')\n",
    "plt.title ('Training and validation accuracy')\n",
    "plt.ylabel('acc')\n",
    "plt.xlabel('epochs')\n",
    "\n",
    "plt.legend()\n",
    "plt.figure()\n",
    "\n",
    "plt.plot ( epochs,     loss, 'r--' )\n",
    "plt.plot ( epochs, val_loss ,  'b' )\n",
    "plt.title ('Training and validation loss'   )\n",
    "plt.ylabel('acc')\n",
    "plt.xlabel('epochs')\n",
    "\n",
    "plt.legend()\n",
    "plt.figure()"
   ]
  },
  {
   "cell_type": "markdown",
   "metadata": {},
   "source": [
    "#### IMPORTAMOS LAS LIBRERÍAS NECESARIAS"
   ]
  },
  {
   "cell_type": "code",
   "execution_count": 32,
   "metadata": {},
   "outputs": [],
   "source": [
    "import tensorflow as tf\n",
    "from tensorflow import keras\n",
    "import numpy as np\n",
    "import os\n",
    "import re\n",
    "import matplotlib.pyplot as plt\n",
    "%matplotlib inline\n",
    "import sys\n",
    "import pandas as pd\n",
    "from sklearn.model_selection import train_test_split\n",
    "from sklearn.metrics import classification_report\n",
    "import random\n",
    "from random import sample\n",
    "from tensorflow.keras.models import model_from_json"
   ]
  },
  {
   "cell_type": "markdown",
   "metadata": {},
   "source": [
    "#### MEJORA DEL MODELO"
   ]
  },
  {
   "cell_type": "markdown",
   "metadata": {},
   "source": [
    "##### TRANSFER LEARNING\n"
   ]
  },
  {
   "cell_type": "markdown",
   "metadata": {},
   "source": [
    "Una forma de mejorar el modelo es utilizar un modelo preentrenado. Una de ellas es la **covnet VGG16**, que es la que utilizaremos. Incluimos el parámetro *include_top = False* para utilizar nuestro propio clasificador densamente conectado con nuestras dos clases."
   ]
  },
  {
   "cell_type": "code",
   "execution_count": 33,
   "metadata": {},
   "outputs": [
    {
     "name": "stdout",
     "output_type": "stream",
     "text": [
      "Model: \"vgg16\"\n",
      "_________________________________________________________________\n",
      "Layer (type)                 Output Shape              Param #   \n",
      "=================================================================\n",
      "input_1 (InputLayer)         [(None, 256, 256, 3)]     0         \n",
      "_________________________________________________________________\n",
      "block1_conv1 (Conv2D)        (None, 256, 256, 64)      1792      \n",
      "_________________________________________________________________\n",
      "block1_conv2 (Conv2D)        (None, 256, 256, 64)      36928     \n",
      "_________________________________________________________________\n",
      "block1_pool (MaxPooling2D)   (None, 128, 128, 64)      0         \n",
      "_________________________________________________________________\n",
      "block2_conv1 (Conv2D)        (None, 128, 128, 128)     73856     \n",
      "_________________________________________________________________\n",
      "block2_conv2 (Conv2D)        (None, 128, 128, 128)     147584    \n",
      "_________________________________________________________________\n",
      "block2_pool (MaxPooling2D)   (None, 64, 64, 128)       0         \n",
      "_________________________________________________________________\n",
      "block3_conv1 (Conv2D)        (None, 64, 64, 256)       295168    \n",
      "_________________________________________________________________\n",
      "block3_conv2 (Conv2D)        (None, 64, 64, 256)       590080    \n",
      "_________________________________________________________________\n",
      "block3_conv3 (Conv2D)        (None, 64, 64, 256)       590080    \n",
      "_________________________________________________________________\n",
      "block3_pool (MaxPooling2D)   (None, 32, 32, 256)       0         \n",
      "_________________________________________________________________\n",
      "block4_conv1 (Conv2D)        (None, 32, 32, 512)       1180160   \n",
      "_________________________________________________________________\n",
      "block4_conv2 (Conv2D)        (None, 32, 32, 512)       2359808   \n",
      "_________________________________________________________________\n",
      "block4_conv3 (Conv2D)        (None, 32, 32, 512)       2359808   \n",
      "_________________________________________________________________\n",
      "block4_pool (MaxPooling2D)   (None, 16, 16, 512)       0         \n",
      "_________________________________________________________________\n",
      "block5_conv1 (Conv2D)        (None, 16, 16, 512)       2359808   \n",
      "_________________________________________________________________\n",
      "block5_conv2 (Conv2D)        (None, 16, 16, 512)       2359808   \n",
      "_________________________________________________________________\n",
      "block5_conv3 (Conv2D)        (None, 16, 16, 512)       2359808   \n",
      "_________________________________________________________________\n",
      "block5_pool (MaxPooling2D)   (None, 8, 8, 512)         0         \n",
      "=================================================================\n",
      "Total params: 14,714,688\n",
      "Trainable params: 14,714,688\n",
      "Non-trainable params: 0\n",
      "_________________________________________________________________\n"
     ]
    }
   ],
   "source": [
    "from tensorflow.keras.applications import VGG16\n",
    "\n",
    "VGG16_model = VGG16(input_shape = (256,256,3),\n",
    "                        include_top = False,\n",
    "                        weights = 'imagenet')\n",
    "\n",
    "VGG16_model.summary()"
   ]
  },
  {
   "cell_type": "markdown",
   "metadata": {},
   "source": [
    "Establecemos el modelo densamente conectado:"
   ]
  },
  {
   "cell_type": "code",
   "execution_count": 35,
   "metadata": {},
   "outputs": [
    {
     "name": "stdout",
     "output_type": "stream",
     "text": [
      "Epoch 1/50\n",
      "17/17 [==============================] - 100s 3s/step - loss: 69.0095 - accuracy: 0.5191 - val_loss: 79.9300 - val_accuracy: 0.5829\n",
      "Epoch 2/50\n",
      "17/17 [==============================] - 9s 496ms/step - loss: 35.6212 - accuracy: 0.6240 - val_loss: 38.7458 - val_accuracy: 0.4171\n",
      "Epoch 3/50\n",
      "17/17 [==============================] - 8s 471ms/step - loss: 33.8618 - accuracy: 0.5706 - val_loss: 40.1990 - val_accuracy: 0.5829\n",
      "Epoch 4/50\n",
      "17/17 [==============================] - 8s 447ms/step - loss: 32.1219 - accuracy: 0.6050 - val_loss: 27.8193 - val_accuracy: 0.5829\n",
      "Epoch 5/50\n",
      "17/17 [==============================] - 8s 446ms/step - loss: 29.6203 - accuracy: 0.6126 - val_loss: 41.8843 - val_accuracy: 0.5886\n",
      "Epoch 6/50\n",
      "17/17 [==============================] - 115s 5s/step - loss: 25.5201 - accuracy: 0.6527 - val_loss: 20.4402 - val_accuracy: 0.5257\n",
      "Epoch 7/50\n",
      "17/17 [==============================] - 9s 541ms/step - loss: 25.8788 - accuracy: 0.6202 - val_loss: 38.4448 - val_accuracy: 0.4914\n",
      "Epoch 8/50\n",
      "17/17 [==============================] - 8s 458ms/step - loss: 21.5447 - accuracy: 0.6431 - val_loss: 16.6501 - val_accuracy: 0.6000\n",
      "Epoch 9/50\n",
      "17/17 [==============================] - 8s 478ms/step - loss: 21.4990 - accuracy: 0.6508 - val_loss: 13.7257 - val_accuracy: 0.5771\n",
      "Epoch 10/50\n",
      "17/17 [==============================] - 8s 451ms/step - loss: 21.0421 - accuracy: 0.6775 - val_loss: 32.4491 - val_accuracy: 0.5829\n",
      "Epoch 11/50\n",
      "17/17 [==============================] - 8s 448ms/step - loss: 15.9094 - accuracy: 0.6870 - val_loss: 17.2841 - val_accuracy: 0.5943\n",
      "Epoch 12/50\n",
      "17/17 [==============================] - 8s 462ms/step - loss: 16.1116 - accuracy: 0.6622 - val_loss: 22.6142 - val_accuracy: 0.5314\n",
      "Epoch 13/50\n",
      "17/17 [==============================] - 8s 447ms/step - loss: 14.3096 - accuracy: 0.6832 - val_loss: 20.4415 - val_accuracy: 0.5714\n",
      "Epoch 14/50\n",
      "17/17 [==============================] - 8s 457ms/step - loss: 14.5990 - accuracy: 0.6450 - val_loss: 10.5096 - val_accuracy: 0.5314\n",
      "Epoch 15/50\n",
      "17/17 [==============================] - 8s 446ms/step - loss: 9.2694 - accuracy: 0.7023 - val_loss: 26.9107 - val_accuracy: 0.5543\n",
      "Epoch 16/50\n",
      "17/17 [==============================] - 8s 451ms/step - loss: 12.0715 - accuracy: 0.6927 - val_loss: 14.4963 - val_accuracy: 0.4686\n",
      "Epoch 17/50\n",
      "17/17 [==============================] - 15s 882ms/step - loss: 10.0636 - accuracy: 0.6889 - val_loss: 20.4940 - val_accuracy: 0.5143\n",
      "Epoch 18/50\n",
      "17/17 [==============================] - 8s 445ms/step - loss: 8.3466 - accuracy: 0.6794 - val_loss: 12.8302 - val_accuracy: 0.6171\n",
      "Epoch 19/50\n",
      "17/17 [==============================] - 9s 561ms/step - loss: 7.9209 - accuracy: 0.6851 - val_loss: 12.9535 - val_accuracy: 0.5771\n",
      "Epoch 20/50\n",
      "17/17 [==============================] - 8s 454ms/step - loss: 6.3670 - accuracy: 0.6947 - val_loss: 8.4933 - val_accuracy: 0.6000\n",
      "Epoch 21/50\n",
      "17/17 [==============================] - 8s 455ms/step - loss: 6.7551 - accuracy: 0.6813 - val_loss: 14.1887 - val_accuracy: 0.5143\n",
      "Epoch 22/50\n",
      "17/17 [==============================] - 10s 612ms/step - loss: 5.5107 - accuracy: 0.7080 - val_loss: 17.0553 - val_accuracy: 0.5943\n",
      "Epoch 23/50\n",
      "17/17 [==============================] - 8s 477ms/step - loss: 5.3339 - accuracy: 0.7099 - val_loss: 5.0978 - val_accuracy: 0.5371\n",
      "Epoch 24/50\n",
      "17/17 [==============================] - 8s 448ms/step - loss: 4.4150 - accuracy: 0.7347 - val_loss: 4.7548 - val_accuracy: 0.6171\n",
      "Epoch 25/50\n",
      "17/17 [==============================] - 8s 497ms/step - loss: 2.6579 - accuracy: 0.7557 - val_loss: 4.3507 - val_accuracy: 0.5371\n",
      "Epoch 26/50\n",
      "17/17 [==============================] - 8s 493ms/step - loss: 3.4046 - accuracy: 0.6966 - val_loss: 2.4714 - val_accuracy: 0.5943\n",
      "Epoch 27/50\n",
      "17/17 [==============================] - 8s 484ms/step - loss: 1.9578 - accuracy: 0.7786 - val_loss: 4.9213 - val_accuracy: 0.5429\n",
      "Epoch 28/50\n",
      "17/17 [==============================] - 8s 489ms/step - loss: 2.0589 - accuracy: 0.7748 - val_loss: 3.3580 - val_accuracy: 0.5657\n",
      "Epoch 29/50\n",
      "17/17 [==============================] - 9s 507ms/step - loss: 1.8086 - accuracy: 0.7634 - val_loss: 3.8097 - val_accuracy: 0.5771\n",
      "Epoch 30/50\n",
      "17/17 [==============================] - 9s 563ms/step - loss: 1.6556 - accuracy: 0.7099 - val_loss: 2.7031 - val_accuracy: 0.6114\n",
      "Epoch 31/50\n",
      "17/17 [==============================] - 8s 496ms/step - loss: 1.2075 - accuracy: 0.7309 - val_loss: 3.2288 - val_accuracy: 0.5486\n",
      "Epoch 32/50\n",
      "17/17 [==============================] - 8s 476ms/step - loss: 1.3804 - accuracy: 0.7195 - val_loss: 1.2401 - val_accuracy: 0.5314\n",
      "Epoch 33/50\n",
      "17/17 [==============================] - 8s 497ms/step - loss: 0.9929 - accuracy: 0.7137 - val_loss: 2.0537 - val_accuracy: 0.5829\n",
      "Epoch 34/50\n",
      "17/17 [==============================] - 8s 495ms/step - loss: 0.8666 - accuracy: 0.7214 - val_loss: 1.6178 - val_accuracy: 0.5029\n",
      "Epoch 35/50\n",
      "17/17 [==============================] - 8s 477ms/step - loss: 0.9423 - accuracy: 0.7080 - val_loss: 2.7149 - val_accuracy: 0.5886\n",
      "Epoch 36/50\n",
      "17/17 [==============================] - 8s 499ms/step - loss: 0.7320 - accuracy: 0.7672 - val_loss: 0.9783 - val_accuracy: 0.4971\n",
      "Epoch 37/50\n",
      "17/17 [==============================] - 8s 476ms/step - loss: 0.7677 - accuracy: 0.7023 - val_loss: 1.7010 - val_accuracy: 0.6057\n",
      "Epoch 38/50\n",
      "17/17 [==============================] - 8s 481ms/step - loss: 0.8275 - accuracy: 0.6985 - val_loss: 1.5881 - val_accuracy: 0.5714\n",
      "Epoch 39/50\n",
      "17/17 [==============================] - 8s 488ms/step - loss: 0.9614 - accuracy: 0.6698 - val_loss: 1.2454 - val_accuracy: 0.5029\n",
      "Epoch 40/50\n",
      "17/17 [==============================] - 8s 493ms/step - loss: 0.7768 - accuracy: 0.6985 - val_loss: 1.0158 - val_accuracy: 0.5657\n",
      "Epoch 41/50\n",
      "17/17 [==============================] - 8s 494ms/step - loss: 0.8752 - accuracy: 0.6851 - val_loss: 1.1147 - val_accuracy: 0.5486\n",
      "Epoch 42/50\n",
      "17/17 [==============================] - 9s 515ms/step - loss: 0.7871 - accuracy: 0.7004 - val_loss: 1.4036 - val_accuracy: 0.5714\n",
      "Epoch 43/50\n",
      "17/17 [==============================] - 9s 522ms/step - loss: 0.7856 - accuracy: 0.6947 - val_loss: 1.5348 - val_accuracy: 0.6057\n",
      "Epoch 44/50\n",
      "17/17 [==============================] - 9s 515ms/step - loss: 0.7591 - accuracy: 0.7023 - val_loss: 1.2036 - val_accuracy: 0.4571\n",
      "Epoch 45/50\n",
      "17/17 [==============================] - 8s 496ms/step - loss: 0.8441 - accuracy: 0.7004 - val_loss: 1.8388 - val_accuracy: 0.5086\n",
      "Epoch 46/50\n",
      "17/17 [==============================] - 8s 494ms/step - loss: 0.9047 - accuracy: 0.7118 - val_loss: 1.0149 - val_accuracy: 0.5600\n",
      "Epoch 47/50\n",
      "17/17 [==============================] - 8s 502ms/step - loss: 0.8297 - accuracy: 0.6698 - val_loss: 1.9805 - val_accuracy: 0.5771\n",
      "Epoch 48/50\n",
      "17/17 [==============================] - 9s 501ms/step - loss: 0.9158 - accuracy: 0.6813 - val_loss: 0.9291 - val_accuracy: 0.5029\n",
      "Epoch 49/50\n",
      "17/17 [==============================] - 8s 495ms/step - loss: 0.8559 - accuracy: 0.7519 - val_loss: 1.1294 - val_accuracy: 0.5371\n",
      "Epoch 50/50\n",
      "17/17 [==============================] - 8s 479ms/step - loss: 0.7328 - accuracy: 0.7252 - val_loss: 1.0502 - val_accuracy: 0.5314\n"
     ]
    }
   ],
   "source": [
    "inputs = keras.Input(shape=(256,256,3))\n",
    "\n",
    "x = keras.layers.Flatten()(inputs)\n",
    "x = keras.layers.Dense(256)(x)\n",
    "x = keras.layers.Dropout(0.5)(x)\n",
    "\n",
    "outputs = keras.layers.Dense(2, activation='sigmoid')(x)\n",
    "\n",
    "model_2 = keras.Model(inputs, outputs)\n",
    "model_2.compile(loss='binary_crossentropy',\n",
    "              optimizer = 'rmsprop',\n",
    "              metrics=['accuracy'])\n",
    "\n",
    "callbacks = [keras.callbacks.ModelCheckpoint(\n",
    "    filepath='feature_extraction.keras',\n",
    "    save_best_only=True,\n",
    "    monitor='val_loss')]\n",
    "\n",
    "resumen_2 = model_2.fit(\n",
    "  X_train, Y_train_oh,\n",
    "  epochs=50,\n",
    "  validation_data = (X_valid, Y_validation_oh),\n",
    "  callbacks=callbacks)"
   ]
  },
  {
   "cell_type": "markdown",
   "metadata": {},
   "source": [
    "Guardamos el modelo:"
   ]
  },
  {
   "cell_type": "code",
   "execution_count": 37,
   "metadata": {},
   "outputs": [],
   "source": [
    "model_2_json = model_2.to_json()\n",
    "model_2.save_weights(\"model_2.h5py\")"
   ]
  },
  {
   "cell_type": "markdown",
   "metadata": {},
   "source": [
    "Evaluamos el modelo:"
   ]
  },
  {
   "cell_type": "code",
   "execution_count": 38,
   "metadata": {},
   "outputs": [
    {
     "name": "stdout",
     "output_type": "stream",
     "text": [
      "6/6 [==============================] - 1s 34ms/step - loss: 0.7386 - accuracy: 0.4743\n",
      "Test Accuracy: 0.47428572177886963\n"
     ]
    }
   ],
   "source": [
    "test_lost, test_acc= model1.evaluate(X_valid, Y_validation_oh)\n",
    "print (\"Test Accuracy:\", test_acc)"
   ]
  },
  {
   "cell_type": "markdown",
   "metadata": {},
   "source": [
    "Estos son los resultados:"
   ]
  },
  {
   "cell_type": "code",
   "execution_count": 41,
   "metadata": {},
   "outputs": [
    {
     "data": {
      "image/png": "[encoded data removed]",
      "text/plain": [
       "<Figure size 432x288 with 1 Axes>"
      ]
     },
     "metadata": {
      "needs_background": "light"
     },
     "output_type": "display_data"
    },
    {
     "data": {
      "image/png": "[encoded data removed]",
      "text/plain": [
       "<Figure size 432x288 with 1 Axes>"
      ]
     },
     "metadata": {
      "needs_background": "light"
     },
     "output_type": "display_data"
    }
   ],
   "source": [
    "import matplotlib.pyplot as plt\n",
    "acc = resumen_2.history['accuracy']\n",
    "val_acc = resumen_2.history['val_accuracy']\n",
    "loss = resumen_2.history['loss']\n",
    "val_loss = resumen_2.history['val_loss']\n",
    "epochs = range(1, len(acc) + 1)\n",
    "plt.plot(epochs, acc, 'r--', label='Training acc')\n",
    "plt.plot(epochs, val_acc, 'b', label='Validation acc')\n",
    "plt.title('Training and validation accuracy')\n",
    "plt.legend()\n",
    "plt.figure()\n",
    "plt.plot(epochs, loss, 'r--', label='Training loss')\n",
    "plt.plot(epochs, val_loss, 'b', label='Validation loss')\n",
    "plt.title('Training and validation loss')\n",
    "plt.legend()\n",
    "plt.show()"
   ]
  }
 ],
 "metadata": {
  "kernelspec": {
   "display_name": "Python 3 (ipykernel)",
   "language": "python",
   "name": "python3"
  },
  "language_info": {
   "codemirror_mode": {
    "name": "ipython",
    "version": 3
   },
   "file_extension": ".py",
   "mimetype": "text/x-python",
   "name": "python",
   "nbconvert_exporter": "python",
   "pygments_lexer": "ipython3",
   "version": "3.9.7"
  }
 },
 "nbformat": 4,
 "nbformat_minor": 4
}
