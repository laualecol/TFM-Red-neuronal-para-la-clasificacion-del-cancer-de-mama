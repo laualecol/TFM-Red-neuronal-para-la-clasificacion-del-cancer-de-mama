{
 "cells": [
  {
   "cell_type": "markdown",
   "metadata": {},
   "source": [
    "#### IMPORTACIÓN DE LIBRERÍAS NECESARIAS"
   ]
  },
  {
   "cell_type": "code",
   "execution_count": 1,
   "metadata": {},
   "outputs": [],
   "source": [
    "# Importamos las librerías necesarias\n",
    "import tensorflow\n",
    "import numpy as np\n",
    "import matplotlib.pyplot as plt\n",
    "import pydicom as pdicom\n",
    "import os\n",
    "import glob\n",
    "import re \n",
    "\n",
    "%matplotlib inline\n",
    "\n",
    "import cv2\n",
    "import sys\n",
    "import pandas as pd\n",
    "from sklearn.model_selection import train_test_split\n",
    "from sklearn.metrics import classification_report\n",
    "from tensorflow import keras\n",
    "from tensorflow.keras.utils import to_categorical\n",
    "from tensorflow.keras.models import model_from_json\n",
    "from tensorflow.keras.models import Sequential\n",
    "from tensorflow.keras.models import Model\n",
    "from tensorflow.keras.layers import Input\n",
    "from tensorflow.keras.layers import Dense\n",
    "from tensorflow.keras.layers import Dropout \n",
    "from tensorflow.keras.layers import Flatten\n",
    "from tensorflow.keras.layers import Conv2D\n",
    "from tensorflow.keras.layers import MaxPooling2D\n",
    "from tensorflow.keras.layers import BatchNormalization\n",
    "from tensorflow.keras.layers import LeakyReLU"
   ]
  },
  {
   "cell_type": "markdown",
   "metadata": {},
   "source": [
    "#### IMPORTAR LOS DATOS CRUDOS"
   ]
  },
  {
   "cell_type": "markdown",
   "metadata": {},
   "source": [
    "Creamos una variable llamada \"directorio_principal\" que es la ruta en la que se encuentran las imágenes del proyecto. Dentro de dicha carpeta, hay dos carpetas más, una para cada tipo de imagen (Benigno vs Maligno). Para cargarlas, creamos otros dos directorios por el tipo de imagen."
   ]
  },
  {
   "cell_type": "code",
   "execution_count": 2,
   "metadata": {},
   "outputs": [],
   "source": [
    "directorio_principal = '/Users/laura/Desktop/MASTER/TFM/Imagenes TFM/CMMD'\n",
    "directorio_benignos = '/Users/laura/Desktop/MASTER/TFM/Imagenes TFM/CMMD/Benignos'\n",
    "directorio_malignos = '/Users/laura/Desktop/MASTER/TFM/Imagenes TFM/CMMD/Malignos'"
   ]
  },
  {
   "cell_type": "markdown",
   "metadata": {},
   "source": [
    "A continuación, se realiza la carga de las imágenes. Creamos para ello, un bucle que itere cada uno de los elementos de nuestro directorio de trabajo. "
   ]
  },
  {
   "cell_type": "code",
   "execution_count": 3,
   "metadata": {},
   "outputs": [
    {
     "name": "stdout",
     "output_type": "stream",
     "text": [
      "Nuestro número de imágenes totales que corresponden a tumores benignos es de 466 imágenes\n"
     ]
    }
   ],
   "source": [
    "pacientes_benignos = os.listdir(directorio_benignos)\n",
    "pacientes_benignos.sort()\n",
    "# Recolección de todas las imágenes DICOM\n",
    "imagenes_benignos = []    # Creamos una lista vacía\n",
    "def load_scan(path):\n",
    "    for dirName, subdirList, fileList in os.walk(path):\n",
    "        for filename in fileList:\n",
    "            if \".dcm\" in filename.lower():\n",
    "                imagenes_benignos.append(os.path.join(dirName,filename))\n",
    "    return imagenes_benignos\n",
    "# Añadimos las imágenes a la lista\n",
    "primer_paciente_benignos = load_scan(directorio_benignos)\n",
    "print('Nuestro número de imágenes totales que corresponden a tumores benignos es de',len(imagenes_benignos), 'imágenes')"
   ]
  },
  {
   "cell_type": "markdown",
   "metadata": {},
   "source": [
    "Cargamos todos las imágenes en una lista utilizando la función *pdicom.dcmread()*."
   ]
  },
  {
   "cell_type": "code",
   "execution_count": 4,
   "metadata": {},
   "outputs": [],
   "source": [
    "ds_benignos = []\n",
    "for x in range(0,len(imagenes_benignos)):\n",
    "    img = pdicom.dcmread(imagenes_benignos[x])\n",
    "    ds_benignos.append(img)"
   ]
  },
  {
   "cell_type": "markdown",
   "metadata": {},
   "source": [
    "Realizamos exactamente los mismos pasos con las imágenes de los tumores malignos."
   ]
  },
  {
   "cell_type": "code",
   "execution_count": 5,
   "metadata": {},
   "outputs": [
    {
     "name": "stdout",
     "output_type": "stream",
     "text": [
      "Nuestro número de imágenes que corresponden a tumores malignos es de 1283 imágenes\n"
     ]
    }
   ],
   "source": [
    "pacientes_malignos = os.listdir(directorio_malignos)\n",
    "pacientes_malignos.sort()\n",
    "# Recolección de todas las imágenes DICOM\n",
    "imagenes_malignos = []    # Creamos una lista vacía\n",
    "def load_scan(path):\n",
    "    for dirName, subdirList, fileList in os.walk(path):\n",
    "        for filename in fileList:\n",
    "            if \".dcm\" in filename.lower():\n",
    "                imagenes_malignos.append(os.path.join(dirName,filename))\n",
    "    return imagenes_malignos\n",
    "# Añadimos las imágenes a la lista\n",
    "primer_paciente_malignos = load_scan(directorio_malignos)\n",
    "print('Nuestro número de imágenes que corresponden a tumores malignos es de',len(imagenes_malignos), 'imágenes')"
   ]
  },
  {
   "cell_type": "code",
   "execution_count": 6,
   "metadata": {},
   "outputs": [],
   "source": [
    "ds_malignos = []\n",
    "for x in range(0,len(imagenes_malignos)):\n",
    "    img = pdicom.dcmread(imagenes_malignos[x])\n",
    "    ds_malignos.append(img)"
   ]
  },
  {
   "cell_type": "markdown",
   "metadata": {},
   "source": [
    "#### ANÁLISIS EXPLORATORIO DE LOS DATOS"
   ]
  },
  {
   "cell_type": "code",
   "execution_count": 7,
   "metadata": {},
   "outputs": [
    {
     "name": "stdout",
     "output_type": "stream",
     "text": [
      "Nuestro proyecto está formado en total por 1749 imágenes\n"
     ]
    }
   ],
   "source": [
    "print('Nuestro proyecto está formado en total por', len(ds_benignos) + len(ds_malignos), 'imágenes')"
   ]
  },
  {
   "cell_type": "markdown",
   "metadata": {},
   "source": [
    "A continuación, vamos a mostrar al azar una imagen al azar de los tumores benignos con su correspondiente clase:"
   ]
  },
  {
   "cell_type": "code",
   "execution_count": 9,
   "metadata": {},
   "outputs": [
    {
     "name": "stdout",
     "output_type": "stream",
     "text": [
      "La imagen mostrada es la nº 150 y corresponde a la etiqueta Benignos\n"
     ]
    },
    {
     "data": {
      "text/plain": [
       "<matplotlib.image.AxesImage at 0x26ae9cd3070>"
      ]
     },
     "execution_count": 9,
     "metadata": {},
     "output_type": "execute_result"
    },
    {
     "data": {
      "image/png": "[encoded data removed]",
      "text/plain": [
       "<Figure size 432x288 with 1 Axes>"
      ]
     },
     "metadata": {
      "needs_background": "light"
     },
     "output_type": "display_data"
    }
   ],
   "source": [
    "from random import randrange\n",
    "numero = randrange(len(ds_benignos))\n",
    "print('La imagen mostrada es la nº', numero, 'y corresponde a la etiqueta Benignos')\n",
    "plt.imshow(ds_benignos[numero].pixel_array, cmap = plt.cm.gray)"
   ]
  },
  {
   "cell_type": "markdown",
   "metadata": {},
   "source": [
    "Ahora, hacemos lo mismo con las imágenes correspondientes a los tumores malignos:"
   ]
  },
  {
   "cell_type": "code",
   "execution_count": 20,
   "metadata": {},
   "outputs": [
    {
     "name": "stdout",
     "output_type": "stream",
     "text": [
      "La imagen mostrada es la nº 202 y corresponde a la etiqueta Malignos\n"
     ]
    },
    {
     "data": {
      "text/plain": [
       "<matplotlib.image.AxesImage at 0x2296df1a190>"
      ]
     },
     "execution_count": 20,
     "metadata": {},
     "output_type": "execute_result"
    },
    {
     "data": {
      "image/png": "[encoded data removed]",
      "text/plain": [
       "<Figure size 432x288 with 1 Axes>"
      ]
     },
     "metadata": {
      "needs_background": "light"
     },
     "output_type": "display_data"
    }
   ],
   "source": [
    "from random import randrange\n",
    "numero = randrange(len(ds_malignos))\n",
    "print('La imagen mostrada es la nº', numero, 'y corresponde a la etiqueta Malignos')\n",
    "plt.imshow(ds_malignos[numero].pixel_array, cmap = plt.cm.gray)"
   ]
  },
  {
   "cell_type": "markdown",
   "metadata": {},
   "source": [
    "Mostramos la información detallada de la imagen:"
   ]
  },
  {
   "cell_type": "code",
   "execution_count": 22,
   "metadata": {},
   "outputs": [
    {
     "data": {
      "text/plain": [
       "Dataset.file_meta -------------------------------\n",
       "(0002, 0000) File Meta Information Group Length  UL: 208\n",
       "(0002, 0001) File Meta Information Version       OB: b'\\x00\\x01'\n",
       "(0002, 0002) Media Storage SOP Class UID         UI: Digital Mammography X-Ray Image Storage - For Presentation\n",
       "(0002, 0003) Media Storage SOP Instance UID      UI: 1.3.6.1.4.1.14519.5.2.1.1239.1759.121949186846077507713942613984\n",
       "(0002, 0010) Transfer Syntax UID                 UI: Explicit VR Little Endian\n",
       "(0002, 0012) Implementation Class UID            UI: 1.3.6.1.4.1.22213.1.143\n",
       "(0002, 0013) Implementation Version Name         SH: '0.5'\n",
       "(0002, 0016) Source Application Entity Title     AE: 'POSDA'\n",
       "-------------------------------------------------\n",
       "(0008, 0005) Specific Character Set              CS: 'ISO_IR 100'\n",
       "(0008, 0008) Image Type                          CS: ['DERIVED', 'PRIMARY']\n",
       "(0008, 0012) Instance Creation Date              DA: '20170818'\n",
       "(0008, 0013) Instance Creation Time              TM: '115357'\n",
       "(0008, 0014) Instance Creator UID                UI: 1.3.6.1.4.1.14519.5.2.1.1239.1759.256693145395574474618647257749\n",
       "(0008, 0016) SOP Class UID                       UI: Digital Mammography X-Ray Image Storage - For Presentation\n",
       "(0008, 0018) SOP Instance UID                    UI: 1.3.6.1.4.1.14519.5.2.1.1239.1759.121949186846077507713942613984\n",
       "(0008, 0020) Study Date                          DA: '20100718'\n",
       "(0008, 0021) Series Date                         DA: '20100718'\n",
       "(0008, 0022) Acquisition Date                    DA: '20100718'\n",
       "(0008, 0023) Content Date                        DA: '20100718'\n",
       "(0008, 0030) Study Time                          TM: '000000'\n",
       "(0008, 0031) Series Time                         TM: '000000'\n",
       "(0008, 0032) Acquisition Time                    TM: '000000'\n",
       "(0008, 0033) Content Time                        TM: '000000'\n",
       "(0008, 0050) Accession Number                    SH: ''\n",
       "(0008, 0060) Modality                            CS: 'MG'\n",
       "(0008, 0068) Presentation Intent Type            CS: 'FOR PRESENTATION'\n",
       "(0008, 0070) Manufacturer                        LO: ''\n",
       "(0008, 0090) Referring Physician's Name          PN: ''\n",
       "(0008, 2218)  Anatomic Region Sequence  1 item(s) ---- \n",
       "   (0008, 0100) Code Value                          SH: '76752008'\n",
       "   (0008, 0102) Coding Scheme Designator            SH: 'SCT'\n",
       "   (0008, 0104) Code Meaning                        LO: 'Breast'\n",
       "   ---------\n",
       "(0010, 0010) Patient's Name                      PN: 'D1-0342'\n",
       "(0010, 0020) Patient ID                          LO: 'D1-0342'\n",
       "(0010, 0030) Patient's Birth Date                DA: ''\n",
       "(0010, 0040) Patient's Sex                       CS: 'F'\n",
       "(0010, 1010) Patient's Age                       AS: '054Y'\n",
       "(0012, 0062) Patient Identity Removed            CS: 'YES'\n",
       "(0012, 0063) De-identification Method            LO: 'Per DICOM PS 3.15 AnnexE. Details in 0012,0064'\n",
       "(0012, 0064)  De-identification Method Code Sequence  8 item(s) ---- \n",
       "   (0008, 0100) Code Value                          SH: '113100'\n",
       "   (0008, 0102) Coding Scheme Designator            SH: 'DCM'\n",
       "   (0008, 0104) Code Meaning                        LO: 'Basic Application Confidentiality Profile'\n",
       "   ---------\n",
       "   (0008, 0100) Code Value                          SH: '113101'\n",
       "   (0008, 0102) Coding Scheme Designator            SH: 'DCM'\n",
       "   (0008, 0104) Code Meaning                        LO: 'Clean Pixel Data Option'\n",
       "   ---------\n",
       "   (0008, 0100) Code Value                          SH: '113104'\n",
       "   (0008, 0102) Coding Scheme Designator            SH: 'DCM'\n",
       "   (0008, 0104) Code Meaning                        LO: 'Clean Structured Content Option'\n",
       "   ---------\n",
       "   (0008, 0100) Code Value                          SH: '113105'\n",
       "   (0008, 0102) Coding Scheme Designator            SH: 'DCM'\n",
       "   (0008, 0104) Code Meaning                        LO: 'Clean Descriptors Option'\n",
       "   ---------\n",
       "   (0008, 0100) Code Value                          SH: '113107'\n",
       "   (0008, 0102) Coding Scheme Designator            SH: 'DCM'\n",
       "   (0008, 0104) Code Meaning                        LO: 'Retain Longitudinal Temporal Information Modified Dates Option'\n",
       "   ---------\n",
       "   (0008, 0100) Code Value                          SH: '113108'\n",
       "   (0008, 0102) Coding Scheme Designator            SH: 'DCM'\n",
       "   (0008, 0104) Code Meaning                        LO: 'Retain Patient Characteristics Option'\n",
       "   ---------\n",
       "   (0008, 0100) Code Value                          SH: '113109'\n",
       "   (0008, 0102) Coding Scheme Designator            SH: 'DCM'\n",
       "   (0008, 0104) Code Meaning                        LO: 'Retain Device Identity Option'\n",
       "   ---------\n",
       "   (0008, 0100) Code Value                          SH: '113111'\n",
       "   (0008, 0102) Coding Scheme Designator            SH: 'DCM'\n",
       "   (0008, 0104) Code Meaning                        LO: 'Retain Safe Private Option'\n",
       "   ---------\n",
       "(0013, 0010) Private Creator                     LO: 'CTP'\n",
       "(0013, 1010) Private tag data                    LO: 'CMMD'\n",
       "(0013, 1013) Private tag data                    LO: '12391759'\n",
       "(0018, 0015) Body Part Examined                  CS: 'BREAST'\n",
       "(0018, 1164) Imager Pixel Spacing                DS: [0.094090909, 0.094090909]\n",
       "(0018, 1508) Positioner Type                     CS: 'MAMMOGRAPHIC'\n",
       "(0018, 7004) Detector Type                       CS: 'SCINTILLATOR'\n",
       "(0020, 000d) Study Instance UID                  UI: 1.3.6.1.4.1.14519.5.2.1.1239.1759.255254705018823959101703607579\n",
       "(0020, 000e) Series Instance UID                 UI: 1.3.6.1.4.1.14519.5.2.1.1239.1759.272608743892344093642284587375\n",
       "(0020, 0010) Study ID                            SH: ''\n",
       "(0020, 0011) Series Number                       IS: '1'\n",
       "(0020, 0013) Instance Number                     IS: '2'\n",
       "(0020, 0020) Patient Orientation                 CS: ['A', 'FR']\n",
       "(0020, 0062) Image Laterality                    CS: 'L'\n",
       "(0028, 0002) Samples per Pixel                   US: 1\n",
       "(0028, 0004) Photometric Interpretation          CS: 'MONOCHROME2'\n",
       "(0028, 0010) Rows                                US: 2294\n",
       "(0028, 0011) Columns                             US: 1914\n",
       "(0028, 0100) Bits Allocated                      US: 8\n",
       "(0028, 0101) Bits Stored                         US: 8\n",
       "(0028, 0102) High Bit                            US: 7\n",
       "(0028, 0103) Pixel Representation                US: 0\n",
       "(0028, 0301) Burned In Annotation                CS: 'NO'\n",
       "(0028, 0303) Longitudinal Temporal Information M CS: 'MODIFIED'\n",
       "(0028, 1040) Pixel Intensity Relationship        CS: 'LOG'\n",
       "(0028, 1041) Pixel Intensity Relationship Sign   SS: -1\n",
       "(0028, 1050) Window Center                       DS: '128.0'\n",
       "(0028, 1051) Window Width                        DS: '256.0'\n",
       "(0028, 1052) Rescale Intercept                   DS: '0.0'\n",
       "(0028, 1053) Rescale Slope                       DS: '1.0'\n",
       "(0028, 1054) Rescale Type                        LO: 'US'\n",
       "(0028, 1055) Window Center & Width Explanation   LO: 'Full width of 8 bit data'\n",
       "(0028, 1056) VOI LUT Function                    CS: 'SIGMOID'\n",
       "(0028, 2110) Lossy Image Compression             CS: '00'\n",
       "(0040, 0318) Organ Exposed                       CS: 'BREAST'\n",
       "(0040, 0555)  Acquisition Context Sequence  0 item(s) ---- \n",
       "(0054, 0220)  View Code Sequence  1 item(s) ---- \n",
       "   (0008, 0100) Code Value                          SH: '399368009'\n",
       "   (0008, 0102) Coding Scheme Designator            SH: 'SCT'\n",
       "   (0008, 0104) Code Meaning                        LO: 'medio-lateral oblique'\n",
       "   (0054, 0222)  View Modifier Code Sequence  0 item(s) ---- \n",
       "   ---------\n",
       "(2050, 0020) Presentation LUT Shape              CS: 'IDENTITY'\n",
       "(7fe0, 0010) Pixel Data                          OB: Array of 4390716 elements"
      ]
     },
     "execution_count": 22,
     "metadata": {},
     "output_type": "execute_result"
    }
   ],
   "source": [
    "ds_malignos[numero]"
   ]
  },
  {
   "cell_type": "markdown",
   "metadata": {},
   "source": [
    "Para analizar mejor los datos podemos crear un *data frame* extrayendo las siguientes características de las imágenes:\n",
    "- *Clase*: Nos indica la clase de imagen.\n",
    "- *Tamaño*: Nos indica el tamaño de la imagen.\n",
    "- *Modo*: Nos indica el modo de imagen, 1-correspondiente a el modo en una escala de grises, 3- correspondiente a *RGB*."
   ]
  },
  {
   "cell_type": "code",
   "execution_count": 57,
   "metadata": {},
   "outputs": [],
   "source": [
    "# Para la variable tamaño escogemos del dataset la variable columnas \n",
    "# y la variable de filas:\n",
    "Size = []\n",
    "for x in range(0, len(ds_benignos)):\n",
    "    rows = ds_benignos[x].Rows\n",
    "    columns = ds_benignos[x].Columns\n",
    "    tamaño = (rows,columns)\n",
    "    Size.append(tamaño)\n",
    "    \n",
    "for x in range(0, len(ds_malignos)):\n",
    "    rows = ds_malignos[x].Rows\n",
    "    columns = ds_malignos[x].Columns\n",
    "    tamaño = (rows,columns)\n",
    "    Size.append(tamaño)\n",
    "\n",
    "# Para la variable clase creamos un vector desde 0:\n",
    "Clase = [\"Benigno\"] * 466 + [\"Maligno\"] * 1283\n",
    "\n",
    "# Extraemos el modo de imagen accediendo al *SamplesPerPixel*:\n",
    "Mode = []\n",
    "for x in range(0,len(ds_benignos)):\n",
    "    samples_pixel = ds_benignos[x].SamplesPerPixel\n",
    "    Mode.append(samples_pixel)\n",
    "\n",
    "for x in range(0,len(ds_malignos)):\n",
    "    samples_pixel = ds_malignos[x].SamplesPerPixel\n",
    "    Mode.append(samples_pixel)"
   ]
  },
  {
   "cell_type": "markdown",
   "metadata": {},
   "source": [
    "Creamos un **data frame** con la función del paquete *Pandas*:"
   ]
  },
  {
   "cell_type": "code",
   "execution_count": 58,
   "metadata": {},
   "outputs": [],
   "source": [
    "df = pd.DataFrame({\n",
    "    \"Clase\": Clase,\n",
    "    \"Tamaño\": Size,\n",
    "    \"Modo\": Mode})"
   ]
  },
  {
   "cell_type": "markdown",
   "metadata": {},
   "source": [
    "Mostramos nuestro **data frame**:"
   ]
  },
  {
   "cell_type": "code",
   "execution_count": 56,
   "metadata": {},
   "outputs": [
    {
     "name": "stdout",
     "output_type": "stream",
     "text": [
      "        Clase        Tamaño  Modo\n",
      "0     Benigno  (2294, 1914)     1\n",
      "1     Benigno  (2294, 1914)     1\n",
      "2     Benigno  (2294, 1914)     1\n",
      "3     Benigno  (2294, 1914)     1\n",
      "4     Benigno  (2294, 1914)     1\n",
      "...       ...           ...   ...\n",
      "1744  Maligno  (2294, 1914)     1\n",
      "1745  Maligno  (2294, 1914)     1\n",
      "1746  Maligno  (2294, 1914)     1\n",
      "1747  Maligno  (2294, 1914)     1\n",
      "1748  Maligno  (2294, 1914)     1\n",
      "\n",
      "[1749 rows x 3 columns]\n"
     ]
    }
   ],
   "source": [
    "print(df)"
   ]
  },
  {
   "cell_type": "markdown",
   "metadata": {},
   "source": [
    "#### PREPROCESAMIENTO DE LOS DATOS"
   ]
  },
  {
   "cell_type": "markdown",
   "metadata": {},
   "source": [
    "##### REDUCCIÓN Y BALANCEADO DEL CONJUNTO DE DATOS"
   ]
  },
  {
   "cell_type": "markdown",
   "metadata": {},
   "source": [
    "Para que el conjunto de datos esté balanceado, podemos optar por coger nuestro total de imágenes de benignos ya cargados en la variable *ds_benignos* y escoger al azar la misma cantidad de imágenes del conjunto de datos de malignos."
   ]
  },
  {
   "cell_type": "code",
   "execution_count": 7,
   "metadata": {},
   "outputs": [
    {
     "data": {
      "text/plain": [
       "466"
      ]
     },
     "execution_count": 7,
     "metadata": {},
     "output_type": "execute_result"
    }
   ],
   "source": [
    "import random\n",
    "from random import sample\n",
    "random.seed('123')\n",
    "ds_malignos_balanceado = sample(ds_malignos, 466)\n",
    "len(ds_malignos_balanceado)"
   ]
  },
  {
   "cell_type": "markdown",
   "metadata": {},
   "source": [
    "##### CARGAMOS LAS ETIQUETAS DE IMAGEN EN UNA LISTA"
   ]
  },
  {
   "cell_type": "code",
   "execution_count": 8,
   "metadata": {},
   "outputs": [
    {
     "data": {
      "text/plain": [
       "{'Benigno', 'Maligno'}"
      ]
     },
     "execution_count": 8,
     "metadata": {},
     "output_type": "execute_result"
    }
   ],
   "source": [
    "clases = [\"Benigno\"] * 466 + [\"Maligno\"] * 466\n",
    "set(clases)"
   ]
  },
  {
   "cell_type": "markdown",
   "metadata": {},
   "source": [
    "##### PREPROCESAMIENTO DE LAS IMÁGENES"
   ]
  },
  {
   "cell_type": "code",
   "execution_count": 9,
   "metadata": {},
   "outputs": [],
   "source": [
    "def preprocesamiento(img):\n",
    "    img_pixel_array = img.pixel_array\n",
    "    # Lo convertimos a color\n",
    "    img_rgb = cv2.cvtColor(img_pixel_array, cv2.COLOR_GRAY2RGB)\n",
    "    # Establecemos un tamaño de 256x256\n",
    "    resized_img = cv2.resize(img_rgb, (256, 256))\n",
    "    # Normalizamos las imágenes\n",
    "    img_norm = resized_img/255\n",
    "    \n",
    "    return img_norm"
   ]
  },
  {
   "cell_type": "code",
   "execution_count": 10,
   "metadata": {},
   "outputs": [],
   "source": [
    "X = []\n",
    "for x in range(0,len(ds_benignos)):\n",
    "    img_preprocesada = preprocesamiento(ds_benignos[x])\n",
    "    X.append(img_preprocesada)"
   ]
  },
  {
   "cell_type": "code",
   "execution_count": 11,
   "metadata": {},
   "outputs": [],
   "source": [
    "for x in range(0, len(ds_malignos_balanceado)):\n",
    "    img_preprocesada = preprocesamiento(ds_malignos_balanceado[x])\n",
    "    X.append(img_preprocesada)"
   ]
  },
  {
   "cell_type": "markdown",
   "metadata": {},
   "source": [
    "##### CODIFICACIÓN DE LAS CLASES"
   ]
  },
  {
   "cell_type": "markdown",
   "metadata": {},
   "source": [
    "Codificamos las clases, es decir, asignamos valores numéricos de 0 y 1 a cada valor de la variable clase."
   ]
  },
  {
   "cell_type": "code",
   "execution_count": 12,
   "metadata": {},
   "outputs": [
    {
     "data": {
      "text/plain": [
       "{'Benigno', 'Maligno'}"
      ]
     },
     "execution_count": 12,
     "metadata": {},
     "output_type": "execute_result"
    }
   ],
   "source": [
    "# Podemos observar el nombre de las clases:\n",
    "set(clases)"
   ]
  },
  {
   "cell_type": "code",
   "execution_count": 13,
   "metadata": {},
   "outputs": [],
   "source": [
    "# Creamos un diccionario:\n",
    "diccionario = {'Benigno':0, 'Maligno':1}"
   ]
  },
  {
   "cell_type": "code",
   "execution_count": 14,
   "metadata": {},
   "outputs": [],
   "source": [
    "# Asignamos a cada clase su valor numérico:\n",
    "Y = [diccionario.get(n,n) for n in clases]"
   ]
  },
  {
   "cell_type": "code",
   "execution_count": 15,
   "metadata": {},
   "outputs": [
    {
     "data": {
      "text/plain": [
       "{0, 1}"
      ]
     },
     "execution_count": 15,
     "metadata": {},
     "output_type": "execute_result"
    }
   ],
   "source": [
    "# Observamos las nuevas clases:\n",
    "set(Y)"
   ]
  },
  {
   "cell_type": "markdown",
   "metadata": {},
   "source": [
    "##### TRANSFORMAMOS LAS LISTAS EN VECTORES"
   ]
  },
  {
   "cell_type": "code",
   "execution_count": 16,
   "metadata": {},
   "outputs": [],
   "source": [
    "# Utilizamos la función np.array para hacer la transformación:\n",
    "X = np.array(X)\n",
    "Y = np.array(Y)"
   ]
  },
  {
   "cell_type": "code",
   "execution_count": 17,
   "metadata": {},
   "outputs": [
    {
     "data": {
      "text/plain": [
       "932"
      ]
     },
     "execution_count": 17,
     "metadata": {},
     "output_type": "execute_result"
    }
   ],
   "source": [
    "# Comprobamos la longitud de los vectores:\n",
    "len(X)"
   ]
  },
  {
   "cell_type": "markdown",
   "metadata": {},
   "source": [
    "##### CREAMOS LOS CONJUNTOS DE TRAIN, TEST Y VALIDATION"
   ]
  },
  {
   "cell_type": "code",
   "execution_count": 45,
   "metadata": {},
   "outputs": [],
   "source": [
    "X_train, X_test, Y_train, Y_test  = train_test_split(X,Y, test_size = 0.25)"
   ]
  },
  {
   "cell_type": "code",
   "execution_count": 46,
   "metadata": {},
   "outputs": [],
   "source": [
    "X_train, X_valid, Y_train, Y_valid = train_test_split(X_train, Y_train, test_size = 0.25)"
   ]
  },
  {
   "cell_type": "code",
   "execution_count": 47,
   "metadata": {},
   "outputs": [
    {
     "name": "stdout",
     "output_type": "stream",
     "text": [
      "Entrenamiento Imágenes: (524, 256, 256, 3) Etiquetas: (524,)\n",
      "Test Imágenes: (233, 256, 256, 3) Etiquetas: (233,)\n",
      "Validación Imágenes: (175, 256, 256, 3) Etiquetas: (175,)\n"
     ]
    }
   ],
   "source": [
    "print('Entrenamiento', 'Imágenes:',X_train.shape, 'Etiquetas:',Y_train.shape)\n",
    "print('Test', 'Imágenes:', X_test.shape, 'Etiquetas:',Y_test.shape)\n",
    "print('Validación', 'Imágenes:', X_valid.shape, 'Etiquetas:',Y_valid.shape)"
   ]
  },
  {
   "cell_type": "markdown",
   "metadata": {},
   "source": [
    "##### ONE-HOT ENCODING"
   ]
  },
  {
   "cell_type": "markdown",
   "metadata": {},
   "source": [
    "Se debe realizar un one-hot encoding de la variable clases. Esto significa convertir las clases en una clasificación binaria con 0 y 1. Esto se hace para facilitar el rendimiento y el funcionamiento de la red neuronal. Keras tiene una función llamada to_categorical() que realiza esta función."
   ]
  },
  {
   "cell_type": "code",
   "execution_count": 48,
   "metadata": {},
   "outputs": [
    {
     "name": "stdout",
     "output_type": "stream",
     "text": [
      "Etiqueta original: 0 , Etiqueta one-hot encoding: [1. 0.]\n"
     ]
    }
   ],
   "source": [
    "from tensorflow.keras.utils import to_categorical\n",
    "\n",
    "Y_train_oh = to_categorical(Y_train)\n",
    "Y_test_oh = to_categorical(Y_test)\n",
    "Y_validation_oh = to_categorical(Y_valid)\n",
    "\n",
    "print('Etiqueta original:', Y_train[211], ', Etiqueta one-hot encoding:', Y_train_oh[211])"
   ]
  },
  {
   "cell_type": "code",
   "execution_count": 23,
   "metadata": {},
   "outputs": [
    {
     "data": {
      "text/plain": [
       "(256, 256, 3)"
      ]
     },
     "execution_count": 23,
     "metadata": {},
     "output_type": "execute_result"
    }
   ],
   "source": [
    "X_train[1].shape"
   ]
  },
  {
   "cell_type": "markdown",
   "metadata": {},
   "source": [
    "#### RED NEURONAL DESDE CERO"
   ]
  },
  {
   "cell_type": "markdown",
   "metadata": {},
   "source": [
    "Crearemos una red con 4 capas de convolución. La función de activación en cada capa es *ReLu*. En cada capa se realizará un **MaxPoling de 2x2** para reducir la imagen manteniendo las características únicas que detectó cada kernel. A continuación se añade una capa **Flatten()** aplana las características en un vector unidemensional."
   ]
  },
  {
   "cell_type": "code",
   "execution_count": 24,
   "metadata": {},
   "outputs": [
    {
     "name": "stdout",
     "output_type": "stream",
     "text": [
      "Model: \"sequential\"\n",
      "_________________________________________________________________\n",
      "Layer (type)                 Output Shape              Param #   \n",
      "=================================================================\n",
      "conv2d (Conv2D)              (None, 253, 253, 32)      1568      \n",
      "_________________________________________________________________\n",
      "max_pooling2d (MaxPooling2D) (None, 126, 126, 32)      0         \n",
      "_________________________________________________________________\n",
      "conv2d_1 (Conv2D)            (None, 123, 123, 64)      32832     \n",
      "_________________________________________________________________\n",
      "max_pooling2d_1 (MaxPooling2 (None, 61, 61, 64)        0         \n",
      "_________________________________________________________________\n",
      "conv2d_2 (Conv2D)            (None, 58, 58, 128)       131200    \n",
      "_________________________________________________________________\n",
      "max_pooling2d_2 (MaxPooling2 (None, 29, 29, 128)       0         \n",
      "_________________________________________________________________\n",
      "flatten (Flatten)            (None, 107648)            0         \n",
      "_________________________________________________________________\n",
      "dense (Dense)                (None, 128)               13779072  \n",
      "_________________________________________________________________\n",
      "dropout (Dropout)            (None, 128)               0         \n",
      "_________________________________________________________________\n",
      "dense_1 (Dense)              (None, 2)                 258       \n",
      "=================================================================\n",
      "Total params: 13,944,930\n",
      "Trainable params: 13,944,930\n",
      "Non-trainable params: 0\n",
      "_________________________________________________________________\n"
     ]
    }
   ],
   "source": [
    "modelo_1 = Sequential()\n",
    "\n",
    "modelo_1.add(Conv2D(32, (4, 4), input_shape=(256, 256, 3), activation = 'relu'))\n",
    "modelo_1.add(MaxPooling2D(pool_size=(2, 2)))\n",
    "\n",
    "modelo_1.add(Conv2D(64, (4, 4), activation = 'relu'))\n",
    "modelo_1.add(MaxPooling2D(pool_size=(2, 2)))\n",
    "\n",
    "modelo_1.add(Conv2D(128, (4, 4), activation = 'relu'))\n",
    "modelo_1.add(MaxPooling2D(pool_size=(2, 2)))\n",
    "\n",
    "modelo_1.add(Flatten()) \n",
    "\n",
    "modelo_1.add(Dense(128, activation = 'relu'))\n",
    "\n",
    "modelo_1.add(Dropout(0.2))\n",
    "\n",
    "modelo_1.add(Dense(2, activation = 'sigmoid'))\n",
    "\n",
    "modelo_1.summary()"
   ]
  },
  {
   "cell_type": "code",
   "execution_count": 25,
   "metadata": {},
   "outputs": [],
   "source": [
    "from tensorflow import keras\n",
    "modelo_1.compile(loss = 'binary_crossentropy', \n",
    "                optimizer = keras.optimizers.Adam(),\n",
    "                metrics = ['accuracy'])"
   ]
  },
  {
   "cell_type": "code",
   "execution_count": 26,
   "metadata": {},
   "outputs": [
    {
     "name": "stdout",
     "output_type": "stream",
     "text": [
      "Epoch 1/50\n",
      "16/16 [==============================] - 51s 2s/step - loss: 0.7162 - accuracy: 0.5879 - val_loss: 0.6357 - val_accuracy: 0.6438\n",
      "Epoch 2/50\n",
      "16/16 [==============================] - 23s 1s/step - loss: 0.6623 - accuracy: 0.6159 - val_loss: 0.6445 - val_accuracy: 0.6438\n",
      "Epoch 3/50\n",
      "16/16 [==============================] - 22s 1s/step - loss: 0.6581 - accuracy: 0.6199 - val_loss: 0.6319 - val_accuracy: 0.6438\n",
      "Epoch 4/50\n",
      "16/16 [==============================] - 24s 1s/step - loss: 0.6577 - accuracy: 0.6179 - val_loss: 0.6553 - val_accuracy: 0.6313\n",
      "Epoch 5/50\n",
      "16/16 [==============================] - 23s 1s/step - loss: 0.6442 - accuracy: 0.6362 - val_loss: 0.6851 - val_accuracy: 0.6500\n",
      "Epoch 6/50\n",
      "16/16 [==============================] - 23s 1s/step - loss: 0.6091 - accuracy: 0.6606 - val_loss: 0.7009 - val_accuracy: 0.5500\n",
      "Epoch 7/50\n",
      "16/16 [==============================] - 24s 1s/step - loss: 0.5235 - accuracy: 0.7317 - val_loss: 0.8782 - val_accuracy: 0.6250\n",
      "Epoch 8/50\n",
      "16/16 [==============================] - 24s 2s/step - loss: 0.4857 - accuracy: 0.7378 - val_loss: 0.9563 - val_accuracy: 0.5188\n",
      "Epoch 9/50\n",
      "16/16 [==============================] - 25s 2s/step - loss: 0.3961 - accuracy: 0.8089 - val_loss: 1.2014 - val_accuracy: 0.5688\n",
      "Epoch 10/50\n",
      "16/16 [==============================] - 25s 2s/step - loss: 0.2960 - accuracy: 0.8801 - val_loss: 1.3200 - val_accuracy: 0.5688\n",
      "Epoch 11/50\n",
      "16/16 [==============================] - 24s 2s/step - loss: 0.2609 - accuracy: 0.8902 - val_loss: 1.1988 - val_accuracy: 0.5875\n",
      "Epoch 12/50\n",
      "16/16 [==============================] - 24s 1s/step - loss: 0.1618 - accuracy: 0.9451 - val_loss: 1.6617 - val_accuracy: 0.5250\n",
      "Epoch 13/50\n",
      "16/16 [==============================] - 25s 2s/step - loss: 0.1029 - accuracy: 0.9756 - val_loss: 2.3057 - val_accuracy: 0.5750\n",
      "Epoch 14/50\n",
      "16/16 [==============================] - 25s 2s/step - loss: 0.1054 - accuracy: 0.9614 - val_loss: 2.5146 - val_accuracy: 0.6125\n",
      "Epoch 15/50\n",
      "16/16 [==============================] - 25s 2s/step - loss: 0.0517 - accuracy: 0.9858 - val_loss: 2.6400 - val_accuracy: 0.6000\n",
      "Epoch 16/50\n",
      "16/16 [==============================] - 24s 1s/step - loss: 0.0264 - accuracy: 0.9959 - val_loss: 3.2474 - val_accuracy: 0.5813\n",
      "Epoch 17/50\n",
      "16/16 [==============================] - 24s 2s/step - loss: 0.0118 - accuracy: 1.0000 - val_loss: 3.4933 - val_accuracy: 0.5500\n",
      "Epoch 18/50\n",
      "16/16 [==============================] - 26s 2s/step - loss: 0.0041 - accuracy: 1.0000 - val_loss: 4.0978 - val_accuracy: 0.5750\n",
      "Epoch 19/50\n",
      "16/16 [==============================] - 25s 2s/step - loss: 0.0019 - accuracy: 1.0000 - val_loss: 4.3050 - val_accuracy: 0.5500\n",
      "Epoch 20/50\n",
      "16/16 [==============================] - 25s 2s/step - loss: 0.0061 - accuracy: 0.9980 - val_loss: 4.2980 - val_accuracy: 0.5875\n",
      "Epoch 21/50\n",
      "16/16 [==============================] - 25s 2s/step - loss: 0.0030 - accuracy: 1.0000 - val_loss: 4.3206 - val_accuracy: 0.6125\n",
      "Epoch 22/50\n",
      "16/16 [==============================] - 24s 2s/step - loss: 0.0018 - accuracy: 1.0000 - val_loss: 4.2758 - val_accuracy: 0.5750\n",
      "Epoch 23/50\n",
      "16/16 [==============================] - 24s 2s/step - loss: 0.0031 - accuracy: 1.0000 - val_loss: 4.4708 - val_accuracy: 0.5500\n",
      "Epoch 24/50\n",
      "16/16 [==============================] - 24s 1s/step - loss: 0.0016 - accuracy: 1.0000 - val_loss: 4.4082 - val_accuracy: 0.6125\n",
      "Epoch 25/50\n",
      "16/16 [==============================] - 25s 2s/step - loss: 9.2675e-04 - accuracy: 1.0000 - val_loss: 4.5147 - val_accuracy: 0.6313\n",
      "Epoch 26/50\n",
      "16/16 [==============================] - 25s 2s/step - loss: 0.0012 - accuracy: 1.0000 - val_loss: 4.5510 - val_accuracy: 0.5875\n",
      "Epoch 27/50\n",
      "16/16 [==============================] - 24s 1s/step - loss: 8.6194e-04 - accuracy: 1.0000 - val_loss: 4.8131 - val_accuracy: 0.6000\n",
      "Epoch 28/50\n",
      "16/16 [==============================] - 24s 2s/step - loss: 0.0013 - accuracy: 1.0000 - val_loss: 5.0003 - val_accuracy: 0.5813\n",
      "Epoch 29/50\n",
      "16/16 [==============================] - 24s 1s/step - loss: 4.5947e-04 - accuracy: 1.0000 - val_loss: 5.0801 - val_accuracy: 0.5813\n",
      "Epoch 30/50\n",
      "16/16 [==============================] - 25s 2s/step - loss: 2.7328e-04 - accuracy: 1.0000 - val_loss: 5.1492 - val_accuracy: 0.5813\n",
      "Epoch 31/50\n",
      "16/16 [==============================] - 25s 2s/step - loss: 1.8536e-04 - accuracy: 1.0000 - val_loss: 5.2398 - val_accuracy: 0.5813\n",
      "Epoch 32/50\n",
      "16/16 [==============================] - 25s 2s/step - loss: 1.2891e-04 - accuracy: 1.0000 - val_loss: 5.3195 - val_accuracy: 0.5875\n",
      "Epoch 33/50\n",
      "16/16 [==============================] - 23s 1s/step - loss: 1.2110e-04 - accuracy: 1.0000 - val_loss: 5.3778 - val_accuracy: 0.6000\n",
      "Epoch 34/50\n",
      "16/16 [==============================] - 24s 2s/step - loss: 1.1321e-04 - accuracy: 1.0000 - val_loss: 5.4044 - val_accuracy: 0.6000\n",
      "Epoch 35/50\n",
      "16/16 [==============================] - 26s 2s/step - loss: 2.2911e-04 - accuracy: 1.0000 - val_loss: 5.4393 - val_accuracy: 0.5813\n",
      "Epoch 36/50\n",
      "16/16 [==============================] - 25s 2s/step - loss: 6.3645e-05 - accuracy: 1.0000 - val_loss: 5.4751 - val_accuracy: 0.5813\n",
      "Epoch 37/50\n",
      "16/16 [==============================] - 24s 2s/step - loss: 0.0012 - accuracy: 1.0000 - val_loss: 5.5587 - val_accuracy: 0.6125\n",
      "Epoch 38/50\n",
      "16/16 [==============================] - 26s 2s/step - loss: 2.2399e-04 - accuracy: 1.0000 - val_loss: 5.6982 - val_accuracy: 0.6125\n",
      "Epoch 39/50\n",
      "16/16 [==============================] - 24s 2s/step - loss: 6.8778e-04 - accuracy: 1.0000 - val_loss: 5.9385 - val_accuracy: 0.6250\n",
      "Epoch 40/50\n",
      "16/16 [==============================] - 24s 2s/step - loss: 7.1479e-04 - accuracy: 1.0000 - val_loss: 5.7504 - val_accuracy: 0.6000\n",
      "Epoch 41/50\n",
      "16/16 [==============================] - 24s 2s/step - loss: 0.0012 - accuracy: 1.0000 - val_loss: 5.8674 - val_accuracy: 0.6187\n",
      "Epoch 42/50\n",
      "16/16 [==============================] - 24s 2s/step - loss: 0.0025 - accuracy: 1.0000 - val_loss: 5.2470 - val_accuracy: 0.5813\n",
      "Epoch 43/50\n",
      "16/16 [==============================] - 24s 1s/step - loss: 0.0234 - accuracy: 0.9959 - val_loss: 4.1612 - val_accuracy: 0.5938\n",
      "Epoch 44/50\n",
      "16/16 [==============================] - 24s 1s/step - loss: 0.0086 - accuracy: 0.9980 - val_loss: 4.7759 - val_accuracy: 0.6000\n",
      "Epoch 45/50\n",
      "16/16 [==============================] - 25s 2s/step - loss: 0.0328 - accuracy: 0.9939 - val_loss: 4.7806 - val_accuracy: 0.5875\n",
      "Epoch 46/50\n",
      "16/16 [==============================] - 25s 2s/step - loss: 0.0332 - accuracy: 0.9959 - val_loss: 4.4251 - val_accuracy: 0.6187\n",
      "Epoch 47/50\n",
      "16/16 [==============================] - 24s 2s/step - loss: 0.0414 - accuracy: 0.9878 - val_loss: 4.8593 - val_accuracy: 0.6125\n",
      "Epoch 48/50\n",
      "16/16 [==============================] - 25s 2s/step - loss: 0.0385 - accuracy: 0.9878 - val_loss: 4.0317 - val_accuracy: 0.5500\n",
      "Epoch 49/50\n",
      "16/16 [==============================] - 23s 1s/step - loss: 0.0553 - accuracy: 0.9858 - val_loss: 3.6782 - val_accuracy: 0.5625\n",
      "Epoch 50/50\n",
      "16/16 [==============================] - 24s 1s/step - loss: 0.0135 - accuracy: 0.9959 - val_loss: 4.1237 - val_accuracy: 0.5500\n"
     ]
    }
   ],
   "source": [
    "batch_size = 32\n",
    "resumen_1 = modelo_1.fit(X_train, Y_train_oh,\n",
    "                        batch_size = 32,\n",
    "                        epochs = 50,\n",
    "                        steps_per_epoch = len(X_train) // batch_size,\n",
    "                        verbose = 1,\n",
    "                        validation_data = (X_valid, Y_validation_oh),\n",
    "                        validation_steps = len(X_valid) // batch_size)"
   ]
  },
  {
   "cell_type": "code",
   "execution_count": 27,
   "metadata": {},
   "outputs": [],
   "source": [
    "from tensorflow.keras.models import model_from_json\n",
    "model1_json = modelo_1.to_json()\n",
    "with open(\"model.json\", \"w\") as json_file:\n",
    "    json_file.write(model1_json)\n",
    "# serialize weights to HDF5\n",
    "modelo_1.save_weights(\"model_1.h5py\")"
   ]
  },
  {
   "cell_type": "code",
   "execution_count": 28,
   "metadata": {},
   "outputs": [
    {
     "name": "stdout",
     "output_type": "stream",
     "text": [
      "8/8 [==============================] - 2s 281ms/step - loss: 3.4166 - accuracy: 0.5751\n"
     ]
    }
   ],
   "source": [
    "test_eval = modelo_1.evaluate(X_test,Y_test_oh, verbose = 1)"
   ]
  },
  {
   "cell_type": "code",
   "execution_count": 29,
   "metadata": {},
   "outputs": [
    {
     "data": {
      "text/plain": [
       "<Figure size 432x288 with 0 Axes>"
      ]
     },
     "execution_count": 29,
     "metadata": {},
     "output_type": "execute_result"
    },
    {
     "data": {
      "image/png": "[encoded data removed]",
      "text/plain": [
       "<Figure size 432x288 with 1 Axes>"
      ]
     },
     "metadata": {
      "needs_background": "light"
     },
     "output_type": "display_data"
    },
    {
     "data": {
      "image/png": "[encoded data removed]",
      "text/plain": [
       "<Figure size 432x288 with 1 Axes>"
      ]
     },
     "metadata": {
      "needs_background": "light"
     },
     "output_type": "display_data"
    },
    {
     "data": {
      "text/plain": [
       "<Figure size 432x288 with 0 Axes>"
      ]
     },
     "metadata": {},
     "output_type": "display_data"
    }
   ],
   "source": [
    "acc      = resumen_1.history['accuracy']\n",
    "val_acc  = resumen_1.history['val_accuracy']\n",
    "loss     = resumen_1.history['loss']\n",
    "val_loss = resumen_1.history['val_loss']\n",
    "\n",
    "epochs   = range(1,len(acc)+1,1)\n",
    "\n",
    "plt.plot ( epochs,     acc, 'r--', label='Training acc'  )\n",
    "plt.plot ( epochs, val_acc,  'b', label='Validation acc')\n",
    "plt.title ('Training and validation accuracy')\n",
    "plt.ylabel('acc')\n",
    "plt.xlabel('epochs')\n",
    "\n",
    "plt.legend()\n",
    "plt.figure()\n",
    "\n",
    "plt.plot ( epochs,     loss, 'r--' , label='Training loss')\n",
    "plt.plot ( epochs, val_loss ,  'b', label='Validation loss' )\n",
    "plt.title ('Training and validation loss'   )\n",
    "plt.ylabel('acc')\n",
    "plt.xlabel('epochs')\n",
    "\n",
    "plt.legend()\n",
    "plt.figure()"
   ]
  },
  {
   "cell_type": "markdown",
   "metadata": {},
   "source": [
    "#### IMPORTAMOS LAS LIBRERÍAS NECESARIAS"
   ]
  },
  {
   "cell_type": "code",
   "execution_count": 30,
   "metadata": {},
   "outputs": [],
   "source": [
    "import tensorflow as tf\n",
    "from tensorflow import keras\n",
    "import numpy as np\n",
    "import os\n",
    "import re\n",
    "import matplotlib.pyplot as plt\n",
    "%matplotlib inline\n",
    "import sys\n",
    "import pandas as pd\n",
    "from sklearn.model_selection import train_test_split\n",
    "from sklearn.metrics import classification_report\n",
    "import random\n",
    "from random import sample\n",
    "from tensorflow.keras.models import model_from_json"
   ]
  },
  {
   "cell_type": "markdown",
   "metadata": {},
   "source": [
    "#### MEJORA DEL MODELO"
   ]
  },
  {
   "cell_type": "markdown",
   "metadata": {},
   "source": [
    "##### TRANSFER LEARNING\n"
   ]
  },
  {
   "cell_type": "markdown",
   "metadata": {},
   "source": [
    "Una forma de mejorar el modelo es utilizar un modelo preentrenado. Una de ellas es la **covnet VGG16**, que es la que utilizaremos. Incluimos el parámetro *include_top = False* para utilizar nuestro propio clasificador densamente conectado con nuestras dos clases."
   ]
  },
  {
   "cell_type": "code",
   "execution_count": 49,
   "metadata": {},
   "outputs": [
    {
     "name": "stdout",
     "output_type": "stream",
     "text": [
      "Model: \"vgg16\"\n",
      "_________________________________________________________________\n",
      "Layer (type)                 Output Shape              Param #   \n",
      "=================================================================\n",
      "input_7 (InputLayer)         [(None, 256, 256, 3)]     0         \n",
      "_________________________________________________________________\n",
      "block1_conv1 (Conv2D)        (None, 256, 256, 64)      1792      \n",
      "_________________________________________________________________\n",
      "block1_conv2 (Conv2D)        (None, 256, 256, 64)      36928     \n",
      "_________________________________________________________________\n",
      "block1_pool (MaxPooling2D)   (None, 128, 128, 64)      0         \n",
      "_________________________________________________________________\n",
      "block2_conv1 (Conv2D)        (None, 128, 128, 128)     73856     \n",
      "_________________________________________________________________\n",
      "block2_conv2 (Conv2D)        (None, 128, 128, 128)     147584    \n",
      "_________________________________________________________________\n",
      "block2_pool (MaxPooling2D)   (None, 64, 64, 128)       0         \n",
      "_________________________________________________________________\n",
      "block3_conv1 (Conv2D)        (None, 64, 64, 256)       295168    \n",
      "_________________________________________________________________\n",
      "block3_conv2 (Conv2D)        (None, 64, 64, 256)       590080    \n",
      "_________________________________________________________________\n",
      "block3_conv3 (Conv2D)        (None, 64, 64, 256)       590080    \n",
      "_________________________________________________________________\n",
      "block3_pool (MaxPooling2D)   (None, 32, 32, 256)       0         \n",
      "_________________________________________________________________\n",
      "block4_conv1 (Conv2D)        (None, 32, 32, 512)       1180160   \n",
      "_________________________________________________________________\n",
      "block4_conv2 (Conv2D)        (None, 32, 32, 512)       2359808   \n",
      "_________________________________________________________________\n",
      "block4_conv3 (Conv2D)        (None, 32, 32, 512)       2359808   \n",
      "_________________________________________________________________\n",
      "block4_pool (MaxPooling2D)   (None, 16, 16, 512)       0         \n",
      "_________________________________________________________________\n",
      "block5_conv1 (Conv2D)        (None, 16, 16, 512)       2359808   \n",
      "_________________________________________________________________\n",
      "block5_conv2 (Conv2D)        (None, 16, 16, 512)       2359808   \n",
      "_________________________________________________________________\n",
      "block5_conv3 (Conv2D)        (None, 16, 16, 512)       2359808   \n",
      "_________________________________________________________________\n",
      "block5_pool (MaxPooling2D)   (None, 8, 8, 512)         0         \n",
      "=================================================================\n",
      "Total params: 14,714,688\n",
      "Trainable params: 14,714,688\n",
      "Non-trainable params: 0\n",
      "_________________________________________________________________\n"
     ]
    }
   ],
   "source": [
    "from tensorflow.keras.applications import VGG16\n",
    "\n",
    "VGG16_model = VGG16(input_shape = (256,256,3),\n",
    "                        include_top = False,\n",
    "                        weights = 'imagenet')\n",
    "\n",
    "VGG16_model.summary()"
   ]
  },
  {
   "cell_type": "markdown",
   "metadata": {},
   "source": [
    "Establecemos el modelo densamente conectado:"
   ]
  },
  {
   "cell_type": "code",
   "execution_count": 50,
   "metadata": {},
   "outputs": [
    {
     "name": "stdout",
     "output_type": "stream",
     "text": [
      "Epoch 1/50\n",
      "17/17 [==============================] - 84s 3s/step - loss: 67.3728 - accuracy: 0.5763 - val_loss: 36.5554 - val_accuracy: 0.3829\n",
      "Epoch 2/50\n",
      "17/17 [==============================] - 8s 476ms/step - loss: 36.8545 - accuracy: 0.5363 - val_loss: 20.0132 - val_accuracy: 0.5543\n",
      "Epoch 3/50\n",
      "17/17 [==============================] - 8s 470ms/step - loss: 31.0440 - accuracy: 0.6126 - val_loss: 54.6497 - val_accuracy: 0.5143\n",
      "Epoch 4/50\n",
      "17/17 [==============================] - 8s 487ms/step - loss: 30.0539 - accuracy: 0.6508 - val_loss: 28.0389 - val_accuracy: 0.5029\n",
      "Epoch 5/50\n",
      "17/17 [==============================] - 8s 465ms/step - loss: 30.7229 - accuracy: 0.6298 - val_loss: 59.3811 - val_accuracy: 0.6114\n",
      "Epoch 6/50\n",
      "17/17 [==============================] - 8s 486ms/step - loss: 28.3875 - accuracy: 0.6298 - val_loss: 50.6108 - val_accuracy: 0.4514\n",
      "Epoch 7/50\n",
      "17/17 [==============================] - 8s 473ms/step - loss: 25.5876 - accuracy: 0.6183 - val_loss: 30.3066 - val_accuracy: 0.5829\n",
      "Epoch 8/50\n",
      "17/17 [==============================] - 8s 491ms/step - loss: 25.5323 - accuracy: 0.6527 - val_loss: 14.6980 - val_accuracy: 0.5429\n",
      "Epoch 9/50\n",
      "17/17 [==============================] - 8s 455ms/step - loss: 19.6578 - accuracy: 0.6450 - val_loss: 18.6612 - val_accuracy: 0.6057\n",
      "Epoch 10/50\n",
      "17/17 [==============================] - 8s 443ms/step - loss: 19.5909 - accuracy: 0.6756 - val_loss: 15.8972 - val_accuracy: 0.6114\n",
      "Epoch 11/50\n",
      "17/17 [==============================] - 8s 448ms/step - loss: 18.0116 - accuracy: 0.6756 - val_loss: 17.4819 - val_accuracy: 0.5714\n",
      "Epoch 12/50\n",
      "17/17 [==============================] - 8s 490ms/step - loss: 13.1281 - accuracy: 0.6985 - val_loss: 18.8903 - val_accuracy: 0.5714\n",
      "Epoch 13/50\n",
      "17/17 [==============================] - 8s 452ms/step - loss: 15.6984 - accuracy: 0.6527 - val_loss: 27.0985 - val_accuracy: 0.4457\n",
      "Epoch 14/50\n",
      "17/17 [==============================] - 8s 452ms/step - loss: 12.0955 - accuracy: 0.6832 - val_loss: 30.0459 - val_accuracy: 0.5371\n",
      "Epoch 15/50\n",
      "17/17 [==============================] - 8s 447ms/step - loss: 10.9334 - accuracy: 0.7214 - val_loss: 31.2815 - val_accuracy: 0.6171\n",
      "Epoch 16/50\n",
      "17/17 [==============================] - 8s 458ms/step - loss: 10.8940 - accuracy: 0.6813 - val_loss: 9.8804 - val_accuracy: 0.4971\n",
      "Epoch 17/50\n",
      "17/17 [==============================] - 8s 496ms/step - loss: 12.5176 - accuracy: 0.6718 - val_loss: 17.1577 - val_accuracy: 0.6057\n",
      "Epoch 18/50\n",
      "17/17 [==============================] - 8s 449ms/step - loss: 7.7856 - accuracy: 0.7290 - val_loss: 13.6833 - val_accuracy: 0.4629\n",
      "Epoch 19/50\n",
      "17/17 [==============================] - 8s 446ms/step - loss: 8.3877 - accuracy: 0.6889 - val_loss: 22.1878 - val_accuracy: 0.4457\n",
      "Epoch 20/50\n",
      "17/17 [==============================] - 8s 443ms/step - loss: 6.4811 - accuracy: 0.7214 - val_loss: 16.2514 - val_accuracy: 0.5943\n",
      "Epoch 21/50\n",
      "17/17 [==============================] - 9s 505ms/step - loss: 6.2841 - accuracy: 0.7233 - val_loss: 10.1411 - val_accuracy: 0.5829\n",
      "Epoch 22/50\n",
      "17/17 [==============================] - 8s 485ms/step - loss: 5.8069 - accuracy: 0.6794 - val_loss: 7.7751 - val_accuracy: 0.5714\n",
      "Epoch 23/50\n",
      "17/17 [==============================] - 7s 439ms/step - loss: 5.2924 - accuracy: 0.7061 - val_loss: 15.9508 - val_accuracy: 0.4343\n",
      "Epoch 24/50\n",
      "17/17 [==============================] - 8s 468ms/step - loss: 4.8008 - accuracy: 0.6851 - val_loss: 7.8532 - val_accuracy: 0.6000\n",
      "Epoch 25/50\n",
      "17/17 [==============================] - 7s 441ms/step - loss: 3.7159 - accuracy: 0.7118 - val_loss: 5.1423 - val_accuracy: 0.5657\n",
      "Epoch 26/50\n",
      "17/17 [==============================] - 7s 436ms/step - loss: 2.1323 - accuracy: 0.7901 - val_loss: 7.5603 - val_accuracy: 0.4629\n",
      "Epoch 27/50\n",
      "17/17 [==============================] - 8s 449ms/step - loss: 3.1995 - accuracy: 0.7023 - val_loss: 5.5688 - val_accuracy: 0.5943\n",
      "Epoch 28/50\n",
      "17/17 [==============================] - 7s 440ms/step - loss: 2.6682 - accuracy: 0.6985 - val_loss: 2.4426 - val_accuracy: 0.5771\n",
      "Epoch 29/50\n",
      "17/17 [==============================] - 9s 524ms/step - loss: 1.8153 - accuracy: 0.7519 - val_loss: 3.3243 - val_accuracy: 0.5429\n",
      "Epoch 30/50\n",
      "17/17 [==============================] - 8s 448ms/step - loss: 1.6019 - accuracy: 0.7309 - val_loss: 3.5305 - val_accuracy: 0.4914\n",
      "Epoch 31/50\n",
      "17/17 [==============================] - 8s 449ms/step - loss: 1.7500 - accuracy: 0.6947 - val_loss: 1.6420 - val_accuracy: 0.5543\n",
      "Epoch 32/50\n",
      "17/17 [==============================] - 8s 445ms/step - loss: 1.5627 - accuracy: 0.6927 - val_loss: 2.9831 - val_accuracy: 0.4514\n",
      "Epoch 33/50\n",
      "17/17 [==============================] - 8s 444ms/step - loss: 0.6502 - accuracy: 0.8053 - val_loss: 2.8727 - val_accuracy: 0.6171\n",
      "Epoch 34/50\n",
      "17/17 [==============================] - 8s 456ms/step - loss: 0.8040 - accuracy: 0.7824 - val_loss: 2.8979 - val_accuracy: 0.4571\n",
      "Epoch 35/50\n",
      "17/17 [==============================] - 7s 441ms/step - loss: 1.1801 - accuracy: 0.7118 - val_loss: 3.8666 - val_accuracy: 0.6171\n",
      "Epoch 36/50\n",
      "17/17 [==============================] - 8s 451ms/step - loss: 0.8720 - accuracy: 0.7252 - val_loss: 2.9189 - val_accuracy: 0.4457\n",
      "Epoch 37/50\n",
      "17/17 [==============================] - 8s 463ms/step - loss: 1.1755 - accuracy: 0.6412 - val_loss: 3.0349 - val_accuracy: 0.4514\n",
      "Epoch 38/50\n",
      "17/17 [==============================] - 8s 465ms/step - loss: 0.7938 - accuracy: 0.6947 - val_loss: 1.1559 - val_accuracy: 0.4400\n",
      "Epoch 39/50\n",
      "17/17 [==============================] - 8s 473ms/step - loss: 0.6191 - accuracy: 0.7385 - val_loss: 1.1040 - val_accuracy: 0.4743\n",
      "Epoch 40/50\n",
      "17/17 [==============================] - 8s 476ms/step - loss: 0.7897 - accuracy: 0.7195 - val_loss: 1.8718 - val_accuracy: 0.5886\n",
      "Epoch 41/50\n",
      "17/17 [==============================] - 8s 458ms/step - loss: 0.9043 - accuracy: 0.6794 - val_loss: 1.4518 - val_accuracy: 0.4857\n",
      "Epoch 42/50\n",
      "17/17 [==============================] - 8s 461ms/step - loss: 0.7551 - accuracy: 0.7271 - val_loss: 1.3006 - val_accuracy: 0.6000\n",
      "Epoch 43/50\n",
      "17/17 [==============================] - 8s 486ms/step - loss: 1.0302 - accuracy: 0.6756 - val_loss: 1.0475 - val_accuracy: 0.5771\n",
      "Epoch 44/50\n",
      "17/17 [==============================] - 8s 456ms/step - loss: 0.5792 - accuracy: 0.7538 - val_loss: 2.1348 - val_accuracy: 0.6057\n",
      "Epoch 45/50\n",
      "17/17 [==============================] - 8s 445ms/step - loss: 0.7955 - accuracy: 0.7195 - val_loss: 1.3672 - val_accuracy: 0.4914\n",
      "Epoch 46/50\n",
      "17/17 [==============================] - 8s 453ms/step - loss: 0.9115 - accuracy: 0.6813 - val_loss: 2.2835 - val_accuracy: 0.4457\n",
      "Epoch 47/50\n",
      "17/17 [==============================] - 8s 457ms/step - loss: 0.7622 - accuracy: 0.7156 - val_loss: 2.9855 - val_accuracy: 0.4457\n",
      "Epoch 48/50\n",
      "17/17 [==============================] - 8s 455ms/step - loss: 0.8804 - accuracy: 0.7252 - val_loss: 1.6806 - val_accuracy: 0.5943\n",
      "Epoch 49/50\n",
      "17/17 [==============================] - 8s 449ms/step - loss: 0.7888 - accuracy: 0.7252 - val_loss: 2.5075 - val_accuracy: 0.5943\n",
      "Epoch 50/50\n",
      "17/17 [==============================] - 8s 462ms/step - loss: 0.9604 - accuracy: 0.7233 - val_loss: 1.3701 - val_accuracy: 0.4914\n"
     ]
    }
   ],
   "source": [
    "inputs = keras.Input(shape=(256,256,3))\n",
    "\n",
    "x = keras.layers.Flatten()(inputs)\n",
    "x = keras.layers.Dense(256)(x)\n",
    "x = keras.layers.Dropout(0.5)(x)\n",
    "\n",
    "outputs = keras.layers.Dense(2, activation='sigmoid')(x)\n",
    "\n",
    "model_2 = keras.Model(inputs, outputs)\n",
    "model_2.compile(loss='binary_crossentropy',\n",
    "              optimizer = 'rmsprop',\n",
    "              metrics=['accuracy'])\n",
    "\n",
    "callbacks = [keras.callbacks.ModelCheckpoint(\n",
    "    filepath='feature_extraction.keras',\n",
    "    save_best_only=True,\n",
    "    monitor='val_loss')]\n",
    "\n",
    "resumen_2 = model_2.fit(\n",
    "  X_train, Y_train_oh,\n",
    "  epochs=50,\n",
    "  validation_data = (X_valid, Y_validation_oh),\n",
    "  callbacks=callbacks)"
   ]
  },
  {
   "cell_type": "markdown",
   "metadata": {},
   "source": [
    "Guardamos el modelo:"
   ]
  },
  {
   "cell_type": "code",
   "execution_count": 40,
   "metadata": {},
   "outputs": [],
   "source": [
    "from tensorflow.keras.models import model_from_json\n",
    "modelo2_json = model_2.to_json()\n",
    "with open(\"modelo2_json.json\", \"w\") as json_file:\n",
    "    json_file.write(modelo2_json)\n",
    "# serialize weights to HDF5\n",
    "model_2.save_weights(\"model_2.h5py\")"
   ]
  },
  {
   "cell_type": "markdown",
   "metadata": {},
   "source": [
    "Evaluamos el modelo:"
   ]
  },
  {
   "cell_type": "code",
   "execution_count": 51,
   "metadata": {},
   "outputs": [
    {
     "name": "stdout",
     "output_type": "stream",
     "text": [
      "6/6 [==============================] - 0s 52ms/step - loss: 1.3701 - accuracy: 0.4914\n",
      "Test Accuracy: 0.49142858386039734\n"
     ]
    }
   ],
   "source": [
    "test_lost, test_acc= model_2.evaluate(X_valid, Y_validation_oh)\n",
    "print (\"Test Accuracy:\", test_acc)"
   ]
  },
  {
   "cell_type": "markdown",
   "metadata": {},
   "source": [
    "Estos son los resultados:"
   ]
  },
  {
   "cell_type": "code",
   "execution_count": 36,
   "metadata": {},
   "outputs": [
    {
     "data": {
      "image/png": "[encoded data removed]",
      "text/plain": [
       "<Figure size 432x288 with 1 Axes>"
      ]
     },
     "metadata": {
      "needs_background": "light"
     },
     "output_type": "display_data"
    },
    {
     "data": {
      "image/png": "[encoded data removed]",
      "text/plain": [
       "<Figure size 432x288 with 1 Axes>"
      ]
     },
     "metadata": {
      "needs_background": "light"
     },
     "output_type": "display_data"
    }
   ],
   "source": [
    "import matplotlib.pyplot as plt\n",
    "acc = resumen_2.history['accuracy']\n",
    "val_acc = resumen_2.history['val_accuracy']\n",
    "loss = resumen_2.history['loss']\n",
    "val_loss = resumen_2.history['val_loss']\n",
    "epochs = range(1, len(acc) + 1)\n",
    "plt.plot(epochs, acc, 'r--', label='Training acc')\n",
    "plt.plot(epochs, val_acc, 'b', label='Validation acc')\n",
    "plt.title('Training and validation accuracy')\n",
    "plt.legend()\n",
    "plt.figure()\n",
    "plt.plot(epochs, loss, 'r--', label='Training loss')\n",
    "plt.plot(epochs, val_loss, 'b', label='Validation loss')\n",
    "plt.title('Training and validation loss')\n",
    "plt.legend()\n",
    "plt.show()"
   ]
  }
 ],
 "metadata": {
  "kernelspec": {
   "display_name": "Python 3 (ipykernel)",
   "language": "python",
   "name": "python3"
  },
  "language_info": {
   "codemirror_mode": {
    "name": "ipython",
    "version": 3
   },
   "file_extension": ".py",
   "mimetype": "text/x-python",
   "name": "python",
   "nbconvert_exporter": "python",
   "pygments_lexer": "ipython3",
   "version": "3.9.7"
  }
 },
 "nbformat": 4,
 "nbformat_minor": 4
}
